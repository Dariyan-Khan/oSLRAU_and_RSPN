{
 "cells": [
  {
   "cell_type": "markdown",
   "metadata": {},
   "source": [
    "<h1> Mixed state HMM with oSLRAU</h1>  "
   ]
  },
  {
   "cell_type": "markdown",
   "metadata": {},
   "source": [
    "We use a simple mixed HMM first"
   ]
  },
  {
   "cell_type": "code",
   "execution_count": 80,
   "metadata": {},
   "outputs": [],
   "source": [
    "from mixed_state_hmm import MixedHMM"
   ]
  },
  {
   "cell_type": "code",
   "execution_count": 81,
   "metadata": {},
   "outputs": [],
   "source": [
    "# Define MHMM\n",
    "mixed_states = [[0.0, 1.0, 0.5], [10.0, 1.0, 0.5], [20.0, 1.0, 0.5]]\n",
    "mhmm = MixedHMM(mixed_states)\n"
   ]
  },
  {
   "cell_type": "markdown",
   "metadata": {},
   "source": [
    "<h3> We now define and try to use OSLRAU on it</h3>"
   ]
  },
  {
   "cell_type": "code",
   "execution_count": 82,
   "metadata": {},
   "outputs": [],
   "source": [
    "from oSLRAU_run import get_data\n",
    "from spn.structure.leaves.parametric.Parametric import Gaussian, Bernoulli,  In_Latent\n",
    "from spn.structure.Base import Context\n",
    "from spn.algorithms.LearningWrappers import learn_parametric\n",
    "from spn.io.Graphics import plot_spn\n",
    "import numpy as np\n",
    "from spn.algorithms.Inference import log_likelihood\n",
    "from sklearn.model_selection import train_test_split\n",
    "from spn.algorithms.oSLRAU import oSLRAU, oSLRAUParams\n",
    "from spn.algorithms.RSPN import RSPN\n",
    "from spn.algorithms.TransformStructure import Prune ,Prune_oSLRAU\n",
    "\n",
    "from hmmlearn import hmm\n",
    "from spn.algorithms.Inference import log_likelihood"
   ]
  },
  {
   "cell_type": "code",
   "execution_count": 83,
   "metadata": {},
   "outputs": [
    {
     "name": "stdout",
     "output_type": "stream",
     "text": [
      "==>> rspn_data_mix.shape: (20, 10)\n"
     ]
    }
   ],
   "source": [
    "n_states = 3\n",
    "n_dim = 2\n",
    "\n",
    "num_time_steps_mix = 5\n",
    "num_seq_mix = 20\n",
    "rspn_data_mix= np.array([mhmm.sample_obs(num_time_steps_mix) for _ in range(num_seq_mix)])\n",
    "rspn_data_mix.shape\n",
    "\n",
    "rspn_data_mix = rspn_data_mix.reshape((rspn_data_mix.shape[0], -1))\n",
    "print(f\"==>> rspn_data_mix.shape: {rspn_data_mix.shape}\")"
   ]
  },
  {
   "cell_type": "code",
   "execution_count": 84,
   "metadata": {},
   "outputs": [
    {
     "data": {
      "text/plain": [
       "array([[ 5.40951618e-01,  0.00000000e+00,  1.22011098e+01,\n",
       "         0.00000000e+00,  2.03609411e+01,  0.00000000e+00,\n",
       "         1.42801961e+00,  1.00000000e+00,  9.97561176e+00,\n",
       "         0.00000000e+00],\n",
       "       [-5.58022789e-01,  0.00000000e+00,  1.09583045e+01,\n",
       "         1.00000000e+00,  1.97122954e+01,  0.00000000e+00,\n",
       "         2.23204929e-01,  0.00000000e+00,  8.05934625e+00,\n",
       "         0.00000000e+00],\n",
       "       [ 1.16753863e-01,  1.00000000e+00,  9.16720846e+00,\n",
       "         0.00000000e+00,  2.09858381e+01,  1.00000000e+00,\n",
       "         2.84095627e-01,  0.00000000e+00,  7.97525585e+00,\n",
       "         1.00000000e+00],\n",
       "       [-2.48967406e-01,  0.00000000e+00,  7.67524104e+00,\n",
       "         0.00000000e+00,  1.86114054e+01,  0.00000000e+00,\n",
       "         7.16277773e-01,  1.00000000e+00,  1.18902756e+01,\n",
       "         1.00000000e+00],\n",
       "       [ 2.40609841e+00,  0.00000000e+00,  9.75683940e+00,\n",
       "         1.00000000e+00,  2.12730204e+01,  1.00000000e+00,\n",
       "        -1.20032512e+00,  1.00000000e+00,  1.00959040e+01,\n",
       "         0.00000000e+00],\n",
       "       [-8.18168908e-01,  0.00000000e+00,  8.23275082e+00,\n",
       "         0.00000000e+00,  2.04395429e+01,  1.00000000e+00,\n",
       "         2.05348064e+00,  0.00000000e+00,  7.84254977e+00,\n",
       "         1.00000000e+00],\n",
       "       [-5.77978656e-01,  1.00000000e+00,  8.97559225e+00,\n",
       "         0.00000000e+00,  1.94048142e+01,  0.00000000e+00,\n",
       "         8.71131955e-01,  1.00000000e+00,  8.11909166e+00,\n",
       "         1.00000000e+00],\n",
       "       [-4.66038378e-01,  1.00000000e+00,  1.30063244e+01,\n",
       "         1.00000000e+00,  1.97761209e+01,  1.00000000e+00,\n",
       "        -1.00935048e+00,  1.00000000e+00,  1.00463882e+01,\n",
       "         0.00000000e+00],\n",
       "       [-4.46564209e-02,  1.00000000e+00,  1.03189167e+01,\n",
       "         0.00000000e+00,  1.98560767e+01,  1.00000000e+00,\n",
       "        -5.26589281e-02,  1.00000000e+00,  8.33649663e+00,\n",
       "         0.00000000e+00],\n",
       "       [-5.00551502e-01,  1.00000000e+00,  8.86438737e+00,\n",
       "         0.00000000e+00,  2.11786282e+01,  0.00000000e+00,\n",
       "         5.66443204e-01,  0.00000000e+00,  9.04134128e+00,\n",
       "         1.00000000e+00],\n",
       "       [-2.53761552e-01,  1.00000000e+00,  1.09296275e+01,\n",
       "         0.00000000e+00,  1.74855771e+01,  1.00000000e+00,\n",
       "         9.49956505e-01,  0.00000000e+00,  1.05704110e+01,\n",
       "         1.00000000e+00],\n",
       "       [-6.20809925e-01,  1.00000000e+00,  1.14011938e+01,\n",
       "         0.00000000e+00,  2.10890834e+01,  0.00000000e+00,\n",
       "         7.77311561e-01,  0.00000000e+00,  1.08131307e+01,\n",
       "         1.00000000e+00],\n",
       "       [ 1.17584337e-02,  1.00000000e+00,  1.10817291e+01,\n",
       "         1.00000000e+00,  1.95728392e+01,  1.00000000e+00,\n",
       "        -7.22795939e-01,  0.00000000e+00,  9.89321362e+00,\n",
       "         1.00000000e+00],\n",
       "       [-5.79268096e-01,  1.00000000e+00,  8.87177282e+00,\n",
       "         0.00000000e+00,  1.89235876e+01,  1.00000000e+00,\n",
       "         2.31662955e+00,  0.00000000e+00,  1.05400515e+01,\n",
       "         1.00000000e+00],\n",
       "       [ 1.13860210e-01,  0.00000000e+00,  9.36430307e+00,\n",
       "         1.00000000e+00,  2.13352571e+01,  0.00000000e+00,\n",
       "         2.09469672e+00,  1.00000000e+00,  1.12274850e+01,\n",
       "         0.00000000e+00],\n",
       "       [ 5.35787461e-01,  0.00000000e+00,  1.06513607e+01,\n",
       "         1.00000000e+00,  1.97879300e+01,  0.00000000e+00,\n",
       "         6.07903792e-01,  1.00000000e+00,  1.01839245e+01,\n",
       "         0.00000000e+00],\n",
       "       [ 3.62210880e-01,  0.00000000e+00,  1.13204280e+01,\n",
       "         1.00000000e+00,  1.94689645e+01,  1.00000000e+00,\n",
       "         7.94112779e-02,  1.00000000e+00,  1.13922150e+01,\n",
       "         0.00000000e+00],\n",
       "       [ 1.26791840e+00,  0.00000000e+00,  1.12735437e+01,\n",
       "         0.00000000e+00,  2.05114098e+01,  1.00000000e+00,\n",
       "        -6.80260088e-01,  0.00000000e+00,  1.11042732e+01,\n",
       "         1.00000000e+00],\n",
       "       [-3.25715466e-01,  0.00000000e+00,  8.20507667e+00,\n",
       "         1.00000000e+00,  1.84300677e+01,  0.00000000e+00,\n",
       "        -1.81839786e-02,  1.00000000e+00,  1.12313282e+01,\n",
       "         1.00000000e+00],\n",
       "       [ 1.17311107e+00,  1.00000000e+00,  1.10937398e+01,\n",
       "         1.00000000e+00,  2.00935301e+01,  0.00000000e+00,\n",
       "        -3.10506492e-01,  0.00000000e+00,  1.01329559e+01,\n",
       "         1.00000000e+00]])"
      ]
     },
     "execution_count": 84,
     "metadata": {},
     "output_type": "execute_result"
    }
   ],
   "source": [
    "rspn_data_mix"
   ]
  },
  {
   "cell_type": "code",
   "execution_count": 85,
   "metadata": {},
   "outputs": [],
   "source": [
    "num_variables = num_time_steps_mix * n_dim\n",
    "num_latent_variables = n_states\n",
    "num_latent_values = n_dim\n",
    "unroll = 'backward'\n",
    "full_update = False\n",
    "update_leaves = True\n",
    "len_sequence_varies = False\n",
    "oSLRAU_params = oSLRAUParams(mergebatch_threshold=10, corrthresh=0.7, mvmaxscope=1, equalweight=True, currVals=True)\n",
    "\n",
    "\n",
    "mini_batch_size = 2\n",
    "update_after_no_min_batches = 2"
   ]
  },
  {
   "cell_type": "code",
   "execution_count": 101,
   "metadata": {},
   "outputs": [],
   "source": [
    "def train_rspn_mix(train_data, test_data, rspn=None):\n",
    "\n",
    "    if len(train_data.shape) == 3: train_data = np.squeeze(train_data)\n",
    "    if len(test_data.shape) == 3: test_data = np.squeeze(test_data)\n",
    "\n",
    "    if rspn is None:\n",
    "    \n",
    "        rspn = RSPN(num_variables=num_variables, num_latent_variables=num_latent_variables, num_latent_values=num_latent_values)\n",
    "        first_mini_batch = train_data[0:mini_batch_size]\n",
    "        n = first_mini_batch.shape[1]\n",
    "        print(n)\n",
    "        \n",
    "        context = [Gaussian, Bernoulli]*(int(n/2)) # Bernoulli\n",
    "        ds_context = Context(parametric_types=context).add_domains(first_mini_batch[:, :num_variables])\n",
    "        spn, initial_template_spn, top_spn = rspn.build_initial_template(first_mini_batch, ds_context, len_sequence_varies)\n",
    "\n",
    "    \n",
    "    no_of_minibatches = int(train_data.shape[0] / mini_batch_size)\n",
    "\n",
    "    print(f\"no of minibatches: {no_of_minibatches}\")\n",
    "\n",
    "    \n",
    "    for i in range(1, no_of_minibatches):\n",
    "        mini_batch = train_data[i * mini_batch_size: (i+1) * mini_batch_size]\n",
    "    \n",
    "        update_template = False\n",
    "        \n",
    "        if i % update_after_no_min_batches == 0:\n",
    "            print(i)\n",
    "            update_template = True\n",
    "    \n",
    "        template_spn = rspn.learn_rspn(mini_batch, update_template, oSLRAU_params, unroll, full_update, update_leaves,\n",
    "                                       len_sequence_varies)\n",
    "           \n",
    "            \n",
    "    test_ll = np.mean(rspn.log_likelihood(test_data, unroll, len_sequence_varies))\n",
    "\n",
    "\n",
    "    return test_ll, rspn, template_spn"
   ]
  },
  {
   "cell_type": "markdown",
   "metadata": {},
   "source": [
    "<h3> </h3>"
   ]
  },
  {
   "cell_type": "code",
   "execution_count": 102,
   "metadata": {},
   "outputs": [],
   "source": [
    "def avg_ll_mix(data, num_epochs=1, do_plot_spn=True):\n",
    "    ll_list = []\n",
    "    rspn=None\n",
    "    train_data, val_data= train_test_split(data, test_size=0.1, random_state=42)\n",
    "    for i in range(num_epochs):\n",
    "        print(train_data.shape)\n",
    "        \n",
    "        \n",
    "        epoch_ll, rspn, template_spn = train_rspn_mix(train_data, val_data, rspn)        \n",
    "        print(f\"epoch_ll: {epoch_ll}\")\n",
    "        \n",
    "        ll_list.append(epoch_ll)\n",
    "\n",
    "    average_ll = np.mean(np.array(ll_list))\n",
    "    print(f\" \\n\\n\\n average ll: {average_ll}\\n\\n\\n\")\n",
    "\n",
    "    if do_plot_spn:\n",
    "        plot_spn(template_spn, 'rspn_final_template.pdf')\n",
    "    \n",
    "    return rspn"
   ]
  },
  {
   "cell_type": "code",
   "execution_count": 105,
   "metadata": {},
   "outputs": [
    {
     "name": "stdout",
     "output_type": "stream",
     "text": [
      "(18, 10)\n",
      "10\n",
      "==>> data.shape: (2, 10)\n",
      "len(self.meta_types): 10\n",
      "Building initial spn\n",
      "Building initial template spn\n",
      "Building top spn\n",
      "no of minibatches: 9\n"
     ]
    },
    {
     "ename": "UnboundLocalError",
     "evalue": "local variable 'mean' referenced before assignment",
     "output_type": "error",
     "traceback": [
      "\u001b[0;31m---------------------------------------------------------------------------\u001b[0m",
      "\u001b[0;31mUnboundLocalError\u001b[0m                         Traceback (most recent call last)",
      "\u001b[1;32m/Users/dariyankhan/Library/CloudStorage/OneDrive-ImperialCollegeLondon/Work (one drive)/Imperial/MIT/exchange_year/summer-UROP-knowledge-distillation/policy_stuff/policy-learn/oSLRAU_and_RSPN/oSLRAU_mixed.ipynb Cell 13\u001b[0m line \u001b[0;36m1\n\u001b[0;32m----> <a href='vscode-notebook-cell:/Users/dariyankhan/Library/CloudStorage/OneDrive-ImperialCollegeLondon/Work%20%28one%20drive%29/Imperial/MIT/exchange_year/summer-UROP-knowledge-distillation/policy_stuff/policy-learn/oSLRAU_and_RSPN/oSLRAU_mixed.ipynb#X15sZmlsZQ%3D%3D?line=0'>1</a>\u001b[0m rspn_mix \u001b[39m=\u001b[39m avg_ll_mix(rspn_data_mix, do_plot_spn\u001b[39m=\u001b[39;49m\u001b[39mTrue\u001b[39;49;00m)\n",
      "\u001b[1;32m/Users/dariyankhan/Library/CloudStorage/OneDrive-ImperialCollegeLondon/Work (one drive)/Imperial/MIT/exchange_year/summer-UROP-knowledge-distillation/policy_stuff/policy-learn/oSLRAU_and_RSPN/oSLRAU_mixed.ipynb Cell 13\u001b[0m line \u001b[0;36m9\n\u001b[1;32m      <a href='vscode-notebook-cell:/Users/dariyankhan/Library/CloudStorage/OneDrive-ImperialCollegeLondon/Work%20%28one%20drive%29/Imperial/MIT/exchange_year/summer-UROP-knowledge-distillation/policy_stuff/policy-learn/oSLRAU_and_RSPN/oSLRAU_mixed.ipynb#X15sZmlsZQ%3D%3D?line=4'>5</a>\u001b[0m \u001b[39mfor\u001b[39;00m i \u001b[39min\u001b[39;00m \u001b[39mrange\u001b[39m(num_epochs):\n\u001b[1;32m      <a href='vscode-notebook-cell:/Users/dariyankhan/Library/CloudStorage/OneDrive-ImperialCollegeLondon/Work%20%28one%20drive%29/Imperial/MIT/exchange_year/summer-UROP-knowledge-distillation/policy_stuff/policy-learn/oSLRAU_and_RSPN/oSLRAU_mixed.ipynb#X15sZmlsZQ%3D%3D?line=5'>6</a>\u001b[0m     \u001b[39mprint\u001b[39m(train_data\u001b[39m.\u001b[39mshape)\n\u001b[0;32m----> <a href='vscode-notebook-cell:/Users/dariyankhan/Library/CloudStorage/OneDrive-ImperialCollegeLondon/Work%20%28one%20drive%29/Imperial/MIT/exchange_year/summer-UROP-knowledge-distillation/policy_stuff/policy-learn/oSLRAU_and_RSPN/oSLRAU_mixed.ipynb#X15sZmlsZQ%3D%3D?line=8'>9</a>\u001b[0m     epoch_ll, rspn, template_spn \u001b[39m=\u001b[39m train_rspn_mix(train_data, val_data, rspn)        \n\u001b[1;32m     <a href='vscode-notebook-cell:/Users/dariyankhan/Library/CloudStorage/OneDrive-ImperialCollegeLondon/Work%20%28one%20drive%29/Imperial/MIT/exchange_year/summer-UROP-knowledge-distillation/policy_stuff/policy-learn/oSLRAU_and_RSPN/oSLRAU_mixed.ipynb#X15sZmlsZQ%3D%3D?line=9'>10</a>\u001b[0m     \u001b[39mprint\u001b[39m(\u001b[39mf\u001b[39m\u001b[39m\"\u001b[39m\u001b[39mepoch_ll: \u001b[39m\u001b[39m{\u001b[39;00mepoch_ll\u001b[39m}\u001b[39;00m\u001b[39m\"\u001b[39m)\n\u001b[1;32m     <a href='vscode-notebook-cell:/Users/dariyankhan/Library/CloudStorage/OneDrive-ImperialCollegeLondon/Work%20%28one%20drive%29/Imperial/MIT/exchange_year/summer-UROP-knowledge-distillation/policy_stuff/policy-learn/oSLRAU_and_RSPN/oSLRAU_mixed.ipynb#X15sZmlsZQ%3D%3D?line=11'>12</a>\u001b[0m     ll_list\u001b[39m.\u001b[39mappend(epoch_ll)\n",
      "\u001b[1;32m/Users/dariyankhan/Library/CloudStorage/OneDrive-ImperialCollegeLondon/Work (one drive)/Imperial/MIT/exchange_year/summer-UROP-knowledge-distillation/policy_stuff/policy-learn/oSLRAU_and_RSPN/oSLRAU_mixed.ipynb Cell 13\u001b[0m line \u001b[0;36m3\n\u001b[1;32m     <a href='vscode-notebook-cell:/Users/dariyankhan/Library/CloudStorage/OneDrive-ImperialCollegeLondon/Work%20%28one%20drive%29/Imperial/MIT/exchange_year/summer-UROP-knowledge-distillation/policy_stuff/policy-learn/oSLRAU_and_RSPN/oSLRAU_mixed.ipynb#X15sZmlsZQ%3D%3D?line=28'>29</a>\u001b[0m         \u001b[39mprint\u001b[39m(i)\n\u001b[1;32m     <a href='vscode-notebook-cell:/Users/dariyankhan/Library/CloudStorage/OneDrive-ImperialCollegeLondon/Work%20%28one%20drive%29/Imperial/MIT/exchange_year/summer-UROP-knowledge-distillation/policy_stuff/policy-learn/oSLRAU_and_RSPN/oSLRAU_mixed.ipynb#X15sZmlsZQ%3D%3D?line=29'>30</a>\u001b[0m         update_template \u001b[39m=\u001b[39m \u001b[39mTrue\u001b[39;00m\n\u001b[0;32m---> <a href='vscode-notebook-cell:/Users/dariyankhan/Library/CloudStorage/OneDrive-ImperialCollegeLondon/Work%20%28one%20drive%29/Imperial/MIT/exchange_year/summer-UROP-knowledge-distillation/policy_stuff/policy-learn/oSLRAU_and_RSPN/oSLRAU_mixed.ipynb#X15sZmlsZQ%3D%3D?line=31'>32</a>\u001b[0m     template_spn \u001b[39m=\u001b[39m rspn\u001b[39m.\u001b[39;49mlearn_rspn(mini_batch, update_template, oSLRAU_params, unroll, full_update, update_leaves,\n\u001b[1;32m     <a href='vscode-notebook-cell:/Users/dariyankhan/Library/CloudStorage/OneDrive-ImperialCollegeLondon/Work%20%28one%20drive%29/Imperial/MIT/exchange_year/summer-UROP-knowledge-distillation/policy_stuff/policy-learn/oSLRAU_and_RSPN/oSLRAU_mixed.ipynb#X15sZmlsZQ%3D%3D?line=32'>33</a>\u001b[0m                                    len_sequence_varies)\n\u001b[1;32m     <a href='vscode-notebook-cell:/Users/dariyankhan/Library/CloudStorage/OneDrive-ImperialCollegeLondon/Work%20%28one%20drive%29/Imperial/MIT/exchange_year/summer-UROP-knowledge-distillation/policy_stuff/policy-learn/oSLRAU_and_RSPN/oSLRAU_mixed.ipynb#X15sZmlsZQ%3D%3D?line=35'>36</a>\u001b[0m test_ll \u001b[39m=\u001b[39m np\u001b[39m.\u001b[39mmean(rspn\u001b[39m.\u001b[39mlog_likelihood(test_data, unroll, len_sequence_varies))\n\u001b[1;32m     <a href='vscode-notebook-cell:/Users/dariyankhan/Library/CloudStorage/OneDrive-ImperialCollegeLondon/Work%20%28one%20drive%29/Imperial/MIT/exchange_year/summer-UROP-knowledge-distillation/policy_stuff/policy-learn/oSLRAU_and_RSPN/oSLRAU_mixed.ipynb#X15sZmlsZQ%3D%3D?line=38'>39</a>\u001b[0m \u001b[39mreturn\u001b[39;00m test_ll, rspn, template_spn\n",
      "File \u001b[0;32m~/Library/CloudStorage/OneDrive-ImperialCollegeLondon/Work (one drive)/Imperial/MIT/exchange_year/summer-UROP-knowledge-distillation/policy_stuff/policy-learn/SPFlow/src/spn/algorithms/RSPN.py:95\u001b[0m, in \u001b[0;36mRSPN.learn_rspn\u001b[0;34m(self, mini_batch, update_template, oSLRAU_params, unroll, full_update, update_leaves, len_sequence_varies)\u001b[0m\n\u001b[1;32m     91\u001b[0m     \u001b[39massert\u001b[39;00m mini_batch\u001b[39m.\u001b[39mshape[\n\u001b[1;32m     92\u001b[0m                \u001b[39m1\u001b[39m] \u001b[39m==\u001b[39m \u001b[39mself\u001b[39m\u001b[39m.\u001b[39mnum_variables \u001b[39m*\u001b[39m \u001b[39mself\u001b[39m\u001b[39m.\u001b[39mlen_sequence, \u001b[39m\"\u001b[39m\u001b[39mdata columns not equal to number of variables time length of sequence\u001b[39m\u001b[39m\"\u001b[39m\n\u001b[1;32m     93\u001b[0m     \u001b[39m# print(\"Evaluating rspn and collecting nodes to update\")\u001b[39;00m\n\u001b[0;32m---> 95\u001b[0m     nodes_to_update \u001b[39m=\u001b[39m \u001b[39mself\u001b[39;49m\u001b[39m.\u001b[39;49mevaluate_rspn(mini_batch, oSLRAU_params, unroll, full_update,\n\u001b[1;32m     96\u001b[0m                                          update_leaves)\n\u001b[1;32m     98\u001b[0m \u001b[39mif\u001b[39;00m update_template:\n\u001b[1;32m     99\u001b[0m     \u001b[39mprint\u001b[39m(\u001b[39m\"\u001b[39m\u001b[39mUpdating template spn\u001b[39m\u001b[39m\"\u001b[39m)\n",
      "File \u001b[0;32m~/Library/CloudStorage/OneDrive-ImperialCollegeLondon/Work (one drive)/Imperial/MIT/exchange_year/summer-UROP-knowledge-distillation/policy_stuff/policy-learn/SPFlow/src/spn/algorithms/RSPN.py:248\u001b[0m, in \u001b[0;36mRSPN.evaluate_rspn\u001b[0;34m(self, data, oSLRAU_params, unroll, full_update, update_leaves)\u001b[0m\n\u001b[1;32m    245\u001b[0m top_spn_lls_per_node \u001b[39m=\u001b[39m \u001b[39mself\u001b[39m\u001b[39m.\u001b[39mevaluate_top_spn_bottom_up(data, unrolled_network_lls_per_node)\n\u001b[1;32m    246\u001b[0m \u001b[39mself\u001b[39m\u001b[39m.\u001b[39mevaluate_top_spn_top_down(data, top_spn_lls_per_node, oSLRAU_params)\n\u001b[0;32m--> 248\u001b[0m nodes_to_update \u001b[39m=\u001b[39m \u001b[39mself\u001b[39;49m\u001b[39m.\u001b[39;49mevaluate_rspn_top_down(data, unrolled_network_lls_per_node,\n\u001b[1;32m    249\u001b[0m                                               oSLRAU_params, unroll, full_update, update_leaves)\n\u001b[1;32m    250\u001b[0m \u001b[39mreturn\u001b[39;00m nodes_to_update\n",
      "File \u001b[0;32m~/Library/CloudStorage/OneDrive-ImperialCollegeLondon/Work (one drive)/Imperial/MIT/exchange_year/summer-UROP-knowledge-distillation/policy_stuff/policy-learn/SPFlow/src/spn/algorithms/RSPN.py:299\u001b[0m, in \u001b[0;36mRSPN.evaluate_rspn_top_down\u001b[0;34m(self, data, unrolled_network_lls_per_node, oSLRAU_params, unroll, full_update, update_leaves)\u001b[0m\n\u001b[1;32m    297\u001b[0m \u001b[39mif\u001b[39;00m full_update \u001b[39m==\u001b[39m \u001b[39mFalse\u001b[39;00m:\n\u001b[1;32m    298\u001b[0m     \u001b[39mif\u001b[39;00m i \u001b[39m==\u001b[39m \u001b[39m0\u001b[39m:\n\u001b[0;32m--> 299\u001b[0m         all_results, nodes_to_update, in_latent_dict \u001b[39m=\u001b[39m oSLRAU_eval_spn_top_down(\u001b[39mself\u001b[39;49m\u001b[39m.\u001b[39;49mtemplate_spn,\n\u001b[1;32m    300\u001b[0m                                                                                 oSLRAU_params,\n\u001b[1;32m    301\u001b[0m                                                                                 parent_result\u001b[39m=\u001b[39;49minstance_ids,\n\u001b[1;32m    302\u001b[0m                                                                                 data\u001b[39m=\u001b[39;49mdata_i,\n\u001b[1;32m    303\u001b[0m                                                                                 lls_per_node\u001b[39m=\u001b[39;49mlls_per_node)\n\u001b[1;32m    304\u001b[0m     \u001b[39melse\u001b[39;00m:\n\u001b[1;32m    305\u001b[0m         parent_result \u001b[39m=\u001b[39m [np\u001b[39m.\u001b[39marray(instance_ids)]\n",
      "File \u001b[0;32m~/Library/CloudStorage/OneDrive-ImperialCollegeLondon/Work (one drive)/Imperial/MIT/exchange_year/summer-UROP-knowledge-distillation/policy_stuff/policy-learn/SPFlow/src/spn/algorithms/oSLRAU.py:218\u001b[0m, in \u001b[0;36moSLRAU_eval_spn_top_down\u001b[0;34m(root, oSLRAU_params, eval_functions, all_results, parent_result, **args)\u001b[0m\n\u001b[1;32m    216\u001b[0m             in_latent_dict[n] \u001b[39m=\u001b[39m instances\n\u001b[1;32m    217\u001b[0m         \u001b[39melse\u001b[39;00m:\n\u001b[0;32m--> 218\u001b[0m             update_mean_and_covariance(n, instances, oSLRAU_params, \u001b[39m*\u001b[39;49m\u001b[39m*\u001b[39;49margs)  \u001b[39m# works only for gaussian nodes\u001b[39;00m\n\u001b[1;32m    220\u001b[0m \u001b[39melse\u001b[39;00m:\n\u001b[1;32m    221\u001b[0m     result \u001b[39m=\u001b[39m func(n, param, \u001b[39m*\u001b[39m\u001b[39m*\u001b[39margs)\n",
      "File \u001b[0;32m~/Library/CloudStorage/OneDrive-ImperialCollegeLondon/Work (one drive)/Imperial/MIT/exchange_year/summer-UROP-knowledge-distillation/policy_stuff/policy-learn/SPFlow/src/spn/algorithms/oSLRAUStat.py:68\u001b[0m, in \u001b[0;36mupdate_mean_and_covariance\u001b[0;34m(node, parent_result, params, data, lls_per_node)\u001b[0m\n\u001b[1;32m     65\u001b[0m     cov \u001b[39m=\u001b[39m node\u001b[39m.\u001b[39mcov\n\u001b[1;32m     67\u001b[0m curr_sample_sum \u001b[39m=\u001b[39m x\u001b[39m.\u001b[39msum(axis\u001b[39m=\u001b[39m\u001b[39m0\u001b[39m)\n\u001b[0;32m---> 68\u001b[0m new_mean \u001b[39m=\u001b[39m ((n) \u001b[39m*\u001b[39m (mean) \u001b[39m+\u001b[39m curr_sample_sum) \u001b[39m/\u001b[39m (n \u001b[39m+\u001b[39m m)\n\u001b[1;32m     70\u001b[0m \u001b[39m# update covariance\u001b[39;00m\n\u001b[1;32m     71\u001b[0m dx \u001b[39m=\u001b[39m x \u001b[39m-\u001b[39m mean\n",
      "\u001b[0;31mUnboundLocalError\u001b[0m: local variable 'mean' referenced before assignment"
     ]
    }
   ],
   "source": [
    "rspn_mix = avg_ll_mix(rspn_data_mix, do_plot_spn=True)"
   ]
  },
  {
   "cell_type": "code",
   "execution_count": 89,
   "metadata": {},
   "outputs": [
    {
     "data": {
      "text/plain": [
       "array([[[-0.39440553,  1.        ],\n",
       "        [ 9.83185506,  0.        ],\n",
       "        [20.89864507,  0.        ],\n",
       "        [ 0.74944363,  1.        ],\n",
       "        [ 8.96393841,  1.        ]],\n",
       "\n",
       "       [[ 0.94599424,  1.        ],\n",
       "        [10.3431683 ,  1.        ],\n",
       "        [18.8171084 ,  1.        ],\n",
       "        [-0.21722751,  0.        ],\n",
       "        [11.20270412,  0.        ]],\n",
       "\n",
       "       [[ 0.25659726,  0.        ],\n",
       "        [11.00747205,  0.        ],\n",
       "        [19.59840432,  1.        ],\n",
       "        [-1.22519295,  1.        ],\n",
       "        [10.54883014,  1.        ]],\n",
       "\n",
       "       [[-1.16397914,  1.        ],\n",
       "        [10.15472685,  0.        ],\n",
       "        [19.36049533,  1.        ],\n",
       "        [ 0.44021699,  0.        ],\n",
       "        [ 9.48461854,  0.        ]],\n",
       "\n",
       "       [[-0.79585869,  1.        ],\n",
       "        [12.2889687 ,  0.        ],\n",
       "        [19.23948818,  1.        ],\n",
       "        [-1.93183881,  1.        ],\n",
       "        [10.01962965,  0.        ]]])"
      ]
     },
     "execution_count": 89,
     "metadata": {},
     "output_type": "execute_result"
    }
   ],
   "source": [
    "##generate test data from mixed HMM:\n",
    "\n",
    "test_len_mix = 5\n",
    "test_data_mix = np.array([mhmm.sample_obs(num_time_steps_mix) for _ in range(test_len_mix)])\n",
    "test_data_mix"
   ]
  },
  {
   "cell_type": "code",
   "execution_count": 90,
   "metadata": {},
   "outputs": [
    {
     "data": {
      "text/plain": [
       "-10.261148368145337"
      ]
     },
     "execution_count": 90,
     "metadata": {},
     "output_type": "execute_result"
    }
   ],
   "source": [
    "# Avg test mhmm log likelihood\n",
    "\n",
    "avg_ll_mix = mhmm.avg_ll(test_data_mix)\n",
    "avg_ll_mix"
   ]
  },
  {
   "cell_type": "code",
   "execution_count": 91,
   "metadata": {},
   "outputs": [
    {
     "name": "stdout",
     "output_type": "stream",
     "text": [
      "(5, 5, 2)\n",
      "Length of the sequence in mini_batch: 1\n",
      "==>> data.shape: (5, 10)\n",
      "==>> self.num_variables: 10\n",
      "==>> self.len_sequence: 1\n",
      "Evaluating rspn bottom up\n"
     ]
    },
    {
     "name": "stderr",
     "output_type": "stream",
     "text": [
      "/Users/dariyankhan/Library/CloudStorage/OneDrive-ImperialCollegeLondon/Work (one drive)/Imperial/MIT/exchange_year/summer-UROP-knowledge-distillation/policy_stuff/policy-learn/policy-venv_new/lib/python3.10/site-packages/numpy/core/fromnumeric.py:88: RuntimeWarning: overflow encountered in reduce\n",
      "  return ufunc.reduce(obj, axis, dtype, out, **passkwargs)\n"
     ]
    },
    {
     "data": {
      "text/plain": [
       "-10.90474789106343"
      ]
     },
     "execution_count": 91,
     "metadata": {},
     "output_type": "execute_result"
    }
   ],
   "source": [
    "# RSPN  log likelihood\n",
    "\n",
    "if len(test_data_mix.shape) == 3: test_data_mix = np.squeeze(test_data_mix)\n",
    "print(test_data_mix.shape)\n",
    "test_data_mix = test_data_mix.reshape((len(test_data_mix), -1))\n",
    "\n",
    "rspn_test_ll_mix = np.mean(rspn_mix.log_likelihood(test_data_mix, unroll, len_sequence_varies))\n",
    "rspn_test_ll_mix"
   ]
  },
  {
   "cell_type": "code",
   "execution_count": null,
   "metadata": {},
   "outputs": [],
   "source": []
  },
  {
   "cell_type": "code",
   "execution_count": null,
   "metadata": {},
   "outputs": [],
   "source": []
  }
 ],
 "metadata": {
  "kernelspec": {
   "display_name": "policy-venv_new",
   "language": "python",
   "name": "python3"
  },
  "language_info": {
   "codemirror_mode": {
    "name": "ipython",
    "version": 3
   },
   "file_extension": ".py",
   "mimetype": "text/x-python",
   "name": "python",
   "nbconvert_exporter": "python",
   "pygments_lexer": "ipython3",
   "version": "3.10.4"
  },
  "orig_nbformat": 4
 },
 "nbformat": 4,
 "nbformat_minor": 2
}
