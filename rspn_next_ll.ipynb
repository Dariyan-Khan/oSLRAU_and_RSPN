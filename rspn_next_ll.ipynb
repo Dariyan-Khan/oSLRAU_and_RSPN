{
 "cells": [
  {
   "cell_type": "code",
   "execution_count": 1,
   "metadata": {},
   "outputs": [],
   "source": [
    "from oSLRAU_run import get_data\n",
    "from spn.structure.leaves.parametric.Parametric import Gaussian, In_Latent\n",
    "from spn.structure.Base import Context\n",
    "from spn.algorithms.LearningWrappers import learn_parametric\n",
    "from spn.io.Graphics import plot_spn\n",
    "import numpy as np\n",
    "from spn.algorithms.Inference import log_likelihood\n",
    "from sklearn.model_selection import train_test_split\n",
    "from spn.algorithms.oSLRAU import oSLRAU, oSLRAUParams\n",
    "from spn.algorithms.RSPN import RSPN\n",
    "from spn.algorithms.TransformStructure import Prune ,Prune_oSLRAU\n",
    "\n",
    "from hmmlearn import hmm\n",
    "from spn.algorithms.Inference import log_likelihood"
   ]
  },
  {
   "cell_type": "code",
   "execution_count": 2,
   "metadata": {},
   "outputs": [
    {
     "name": "stdout",
     "output_type": "stream",
     "text": [
      "[-1.312927744354675, 9.548574698788444, -0.6570525135110558, 8.467681347599486, 0.5747912883108425, 11.850302596035458]\n"
     ]
    }
   ],
   "source": [
    "# Set the mean and standard deviation of the Gaussian distribution\n",
    "mean0 = 0.0 \n",
    "std0 = 1.0  \n",
    "\n",
    "mean1 = 10.0 \n",
    "std1 = 1.0  \n",
    "\n",
    "# Generate random samples from the Gaussian distribution\n",
    "num_samples=1000\n",
    "\n",
    "gen_data = [eval(f\"np.random.normal(mean{i%2}, std{i%2})\") for i in range(num_samples)]\n",
    "\n",
    "\n",
    "print(gen_data[:6])"
   ]
  },
  {
   "cell_type": "code",
   "execution_count": 3,
   "metadata": {},
   "outputs": [],
   "source": [
    "n_states = 2  # Number of hidden states\n",
    "model = hmm.GaussianHMM(n_components=n_states)"
   ]
  },
  {
   "cell_type": "code",
   "execution_count": 4,
   "metadata": {},
   "outputs": [
    {
     "data": {
      "text/html": [
       "<style>#sk-container-id-1 {color: black;}#sk-container-id-1 pre{padding: 0;}#sk-container-id-1 div.sk-toggleable {background-color: white;}#sk-container-id-1 label.sk-toggleable__label {cursor: pointer;display: block;width: 100%;margin-bottom: 0;padding: 0.3em;box-sizing: border-box;text-align: center;}#sk-container-id-1 label.sk-toggleable__label-arrow:before {content: \"▸\";float: left;margin-right: 0.25em;color: #696969;}#sk-container-id-1 label.sk-toggleable__label-arrow:hover:before {color: black;}#sk-container-id-1 div.sk-estimator:hover label.sk-toggleable__label-arrow:before {color: black;}#sk-container-id-1 div.sk-toggleable__content {max-height: 0;max-width: 0;overflow: hidden;text-align: left;background-color: #f0f8ff;}#sk-container-id-1 div.sk-toggleable__content pre {margin: 0.2em;color: black;border-radius: 0.25em;background-color: #f0f8ff;}#sk-container-id-1 input.sk-toggleable__control:checked~div.sk-toggleable__content {max-height: 200px;max-width: 100%;overflow: auto;}#sk-container-id-1 input.sk-toggleable__control:checked~label.sk-toggleable__label-arrow:before {content: \"▾\";}#sk-container-id-1 div.sk-estimator input.sk-toggleable__control:checked~label.sk-toggleable__label {background-color: #d4ebff;}#sk-container-id-1 div.sk-label input.sk-toggleable__control:checked~label.sk-toggleable__label {background-color: #d4ebff;}#sk-container-id-1 input.sk-hidden--visually {border: 0;clip: rect(1px 1px 1px 1px);clip: rect(1px, 1px, 1px, 1px);height: 1px;margin: -1px;overflow: hidden;padding: 0;position: absolute;width: 1px;}#sk-container-id-1 div.sk-estimator {font-family: monospace;background-color: #f0f8ff;border: 1px dotted black;border-radius: 0.25em;box-sizing: border-box;margin-bottom: 0.5em;}#sk-container-id-1 div.sk-estimator:hover {background-color: #d4ebff;}#sk-container-id-1 div.sk-parallel-item::after {content: \"\";width: 100%;border-bottom: 1px solid gray;flex-grow: 1;}#sk-container-id-1 div.sk-label:hover label.sk-toggleable__label {background-color: #d4ebff;}#sk-container-id-1 div.sk-serial::before {content: \"\";position: absolute;border-left: 1px solid gray;box-sizing: border-box;top: 0;bottom: 0;left: 50%;z-index: 0;}#sk-container-id-1 div.sk-serial {display: flex;flex-direction: column;align-items: center;background-color: white;padding-right: 0.2em;padding-left: 0.2em;position: relative;}#sk-container-id-1 div.sk-item {position: relative;z-index: 1;}#sk-container-id-1 div.sk-parallel {display: flex;align-items: stretch;justify-content: center;background-color: white;position: relative;}#sk-container-id-1 div.sk-item::before, #sk-container-id-1 div.sk-parallel-item::before {content: \"\";position: absolute;border-left: 1px solid gray;box-sizing: border-box;top: 0;bottom: 0;left: 50%;z-index: -1;}#sk-container-id-1 div.sk-parallel-item {display: flex;flex-direction: column;z-index: 1;position: relative;background-color: white;}#sk-container-id-1 div.sk-parallel-item:first-child::after {align-self: flex-end;width: 50%;}#sk-container-id-1 div.sk-parallel-item:last-child::after {align-self: flex-start;width: 50%;}#sk-container-id-1 div.sk-parallel-item:only-child::after {width: 0;}#sk-container-id-1 div.sk-dashed-wrapped {border: 1px dashed gray;margin: 0 0.4em 0.5em 0.4em;box-sizing: border-box;padding-bottom: 0.4em;background-color: white;}#sk-container-id-1 div.sk-label label {font-family: monospace;font-weight: bold;display: inline-block;line-height: 1.2em;}#sk-container-id-1 div.sk-label-container {text-align: center;}#sk-container-id-1 div.sk-container {/* jupyter's `normalize.less` sets `[hidden] { display: none; }` but bootstrap.min.css set `[hidden] { display: none !important; }` so we also need the `!important` here to be able to override the default hidden behavior on the sphinx rendered scikit-learn.org. See: https://github.com/scikit-learn/scikit-learn/issues/21755 */display: inline-block !important;position: relative;}#sk-container-id-1 div.sk-text-repr-fallback {display: none;}</style><div id=\"sk-container-id-1\" class=\"sk-top-container\"><div class=\"sk-text-repr-fallback\"><pre>GaussianHMM(n_components=2)</pre><b>In a Jupyter environment, please rerun this cell to show the HTML representation or trust the notebook. <br />On GitHub, the HTML representation is unable to render, please try loading this page with nbviewer.org.</b></div><div class=\"sk-container\" hidden><div class=\"sk-item\"><div class=\"sk-estimator sk-toggleable\"><input class=\"sk-toggleable__control sk-hidden--visually\" id=\"sk-estimator-id-1\" type=\"checkbox\" checked><label for=\"sk-estimator-id-1\" class=\"sk-toggleable__label sk-toggleable__label-arrow\">GaussianHMM</label><div class=\"sk-toggleable__content\"><pre>GaussianHMM(n_components=2)</pre></div></div></div></div></div>"
      ],
      "text/plain": [
       "GaussianHMM(n_components=2)"
      ]
     },
     "execution_count": 4,
     "metadata": {},
     "output_type": "execute_result"
    }
   ],
   "source": [
    "# Reshape the observations into a 2D array (required by hmmlearn)\n",
    "X = np.array(gen_data).reshape(-1, 1)\n",
    "\n",
    "# Fit the model to the data\n",
    "model.fit(X)"
   ]
  },
  {
   "cell_type": "code",
   "execution_count": 33,
   "metadata": {},
   "outputs": [],
   "source": [
    "def train_rspn(train_data, test_data, rspn=None):\n",
    "\n",
    "    if len(train_data.shape) == 3: train_data = np.squeeze(train_data)\n",
    "    if len(test_data.shape) == 3: test_data = np.squeeze(test_data)\n",
    "\n",
    "    if rspn is None:\n",
    "    \n",
    "        rspn = RSPN(num_variables=num_variables, num_latent_variables=num_latent_variables, num_latent_values=num_latent_values)\n",
    "        first_mini_batch = train_data[0:mini_batch_size]\n",
    "        n = first_mini_batch.shape[1]\n",
    "        print(n)\n",
    "        context = [Gaussian] * int(n)\n",
    "        ds_context = Context(parametric_types=context).add_domains(first_mini_batch[:, :num_variables])\n",
    "        spn, initial_template_spn, top_spn = rspn.build_initial_template(first_mini_batch, ds_context, len_sequence_varies)\n",
    "\n",
    "    \n",
    "    no_of_minibatches = int(train_data.shape[0] / mini_batch_size)\n",
    "\n",
    "    print(f\"no of minibatches: {no_of_minibatches}\")\n",
    "\n",
    "    \n",
    "    for i in range(1, no_of_minibatches):\n",
    "        mini_batch = train_data[i * mini_batch_size: (i+1) * mini_batch_size]\n",
    "    \n",
    "        update_template = False\n",
    "        \n",
    "        if i % update_after_no_min_batches == 0:\n",
    "            print(i)\n",
    "            update_template = True\n",
    "    \n",
    "        template_spn = rspn.learn_rspn(mini_batch, update_template, oSLRAU_params, unroll, full_update, update_leaves,\n",
    "                                       len_sequence_varies)\n",
    "           \n",
    "            \n",
    "    test_ll = np.mean(rspn.log_likelihood(test_data, unroll, len_sequence_varies))\n",
    "\n",
    "\n",
    "    return test_ll, rspn, template_spn"
   ]
  },
  {
   "cell_type": "code",
   "execution_count": 34,
   "metadata": {},
   "outputs": [],
   "source": [
    "def final_ll(data, num_epochs=1, do_plot_spn=True):\n",
    "    final_test_ll = 0\n",
    "    rspn=None\n",
    "    train_data, val_data= train_test_split(data, test_size=0.1, random_state=42)\n",
    "    for i in range(num_epochs):\n",
    "        final_test_ll, rspn, template_spn = train_rspn(train_data, val_data, rspn)        \n",
    "        print(f\"final_test_ll epoch {i+1}/{num_epochs}: {final_test_ll}\")\n",
    "\n",
    "    if do_plot_spn:\n",
    "        plot_spn(template_spn, 'rspn_final_template.pdf')\n",
    "    \n",
    "    return rspn"
   ]
  },
  {
   "cell_type": "code",
   "execution_count": 39,
   "metadata": {},
   "outputs": [],
   "source": [
    "num_time_steps = 5\n",
    "num_seq = 10\n",
    "rspn_data = np.array([model.sample(num_time_steps)[0] for _ in range(num_seq)])"
   ]
  },
  {
   "cell_type": "code",
   "execution_count": 40,
   "metadata": {},
   "outputs": [
    {
     "data": {
      "text/plain": [
       "(10, 5, 1)"
      ]
     },
     "execution_count": 40,
     "metadata": {},
     "output_type": "execute_result"
    }
   ],
   "source": [
    "rspn_data.shape"
   ]
  },
  {
   "cell_type": "code",
   "execution_count": 43,
   "metadata": {},
   "outputs": [],
   "source": [
    "num_variables = num_time_steps*1\n",
    "num_latent_variables = 2\n",
    "num_latent_values = 2\n",
    "unroll = 'backward'\n",
    "full_update = False\n",
    "update_leaves = True\n",
    "len_sequence_varies = False\n",
    "oSLRAU_params = oSLRAUParams(mergebatch_threshold=10, corrthresh=0.7, mvmaxscope=1, equalweight=True, currVals=True)\n",
    "\n",
    "\n",
    "mini_batch_size = 3\n",
    "update_after_no_min_batches = 2"
   ]
  },
  {
   "cell_type": "code",
   "execution_count": 44,
   "metadata": {},
   "outputs": [
    {
     "name": "stdout",
     "output_type": "stream",
     "text": [
      "5\n",
      "==>> data.shape: (3, 5)\n",
      "len(self.meta_types): 5\n",
      "self.meta_types.values(): dict_values([<MetaType.REAL: 1>, <MetaType.REAL: 1>, <MetaType.REAL: 1>, <MetaType.REAL: 1>, <MetaType.REAL: 1>])\n",
      "len(self.meta_types.values()): 5\n",
      "data[:, col]: [15.40884759  3.33400006  0.06995246]\n",
      "==>> domain_values: [0.06995245615406409, 15.408847593773359]\n",
      "feature_meta_type: MetaType.REAL\n",
      "==>> domain_values: [0.06995245615406409, 15.408847593773359]\n",
      "len(self.meta_types.values()): 5\n",
      "data[:, col]: [ 4.99424095 -2.87386971 10.5811393 ]\n",
      "==>> domain_values: [-2.8738697118586733, 10.581139301123716]\n",
      "feature_meta_type: MetaType.REAL\n",
      "==>> domain_values: [-2.8738697118586733, 10.581139301123716]\n",
      "len(self.meta_types.values()): 5\n",
      "data[:, col]: [10.41450541  2.52336768  3.08404566]\n",
      "==>> domain_values: [2.523367677506619, 10.414505414480985]\n",
      "feature_meta_type: MetaType.REAL\n",
      "==>> domain_values: [2.523367677506619, 10.414505414480985]\n",
      "len(self.meta_types.values()): 5\n",
      "data[:, col]: [12.27821795  4.34572398  1.14920196]\n",
      "==>> domain_values: [1.1492019602027548, 12.278217954578267]\n",
      "feature_meta_type: MetaType.REAL\n",
      "==>> domain_values: [1.1492019602027548, 12.278217954578267]\n",
      "len(self.meta_types.values()): 5\n",
      "data[:, col]: [12.39822571  9.38337337  8.93612045]\n",
      "==>> domain_values: [8.936120448855121, 12.398225705761892]\n",
      "feature_meta_type: MetaType.REAL\n",
      "==>> domain_values: [8.936120448855121, 12.398225705761892]\n",
      "Building initial spn\n",
      "Building initial template spn\n",
      "[[15.40884759  4.99424095 10.41450541 12.27821795 12.39822571]\n",
      " [ 3.33400006 -2.87386971  2.52336768  4.34572398  9.38337337]\n",
      " [ 0.06995246 10.5811393   3.08404566  1.14920196  8.93612045]]\n",
      "Building top spn\n",
      "no of minibatches: 3\n",
      "2\n",
      "Updating template spn\n"
     ]
    },
    {
     "ename": "IndexError",
     "evalue": "tuple index out of range",
     "output_type": "error",
     "traceback": [
      "\u001b[0;31m---------------------------------------------------------------------------\u001b[0m",
      "\u001b[0;31mIndexError\u001b[0m                                Traceback (most recent call last)",
      "\u001b[1;32m/Users/dariyankhan/Library/CloudStorage/OneDrive-ImperialCollegeLondon/Work (one drive)/Imperial/MIT/exchange_year/summer-UROP-knowledge-distillation/policy_stuff/policy-learn/oSLRAU_and_RSPN/rspn_next_ll.ipynb Cell 10\u001b[0m line \u001b[0;36m1\n\u001b[0;32m----> <a href='vscode-notebook-cell:/Users/dariyankhan/Library/CloudStorage/OneDrive-ImperialCollegeLondon/Work%20%28one%20drive%29/Imperial/MIT/exchange_year/summer-UROP-knowledge-distillation/policy_stuff/policy-learn/oSLRAU_and_RSPN/rspn_next_ll.ipynb#X11sZmlsZQ%3D%3D?line=0'>1</a>\u001b[0m rspn \u001b[39m=\u001b[39m final_ll(rspn_data)\n",
      "\u001b[1;32m/Users/dariyankhan/Library/CloudStorage/OneDrive-ImperialCollegeLondon/Work (one drive)/Imperial/MIT/exchange_year/summer-UROP-knowledge-distillation/policy_stuff/policy-learn/oSLRAU_and_RSPN/rspn_next_ll.ipynb Cell 10\u001b[0m line \u001b[0;36m6\n\u001b[1;32m      <a href='vscode-notebook-cell:/Users/dariyankhan/Library/CloudStorage/OneDrive-ImperialCollegeLondon/Work%20%28one%20drive%29/Imperial/MIT/exchange_year/summer-UROP-knowledge-distillation/policy_stuff/policy-learn/oSLRAU_and_RSPN/rspn_next_ll.ipynb#X11sZmlsZQ%3D%3D?line=3'>4</a>\u001b[0m train_data, val_data\u001b[39m=\u001b[39m train_test_split(data, test_size\u001b[39m=\u001b[39m\u001b[39m0.1\u001b[39m, random_state\u001b[39m=\u001b[39m\u001b[39m42\u001b[39m)\n\u001b[1;32m      <a href='vscode-notebook-cell:/Users/dariyankhan/Library/CloudStorage/OneDrive-ImperialCollegeLondon/Work%20%28one%20drive%29/Imperial/MIT/exchange_year/summer-UROP-knowledge-distillation/policy_stuff/policy-learn/oSLRAU_and_RSPN/rspn_next_ll.ipynb#X11sZmlsZQ%3D%3D?line=4'>5</a>\u001b[0m \u001b[39mfor\u001b[39;00m i \u001b[39min\u001b[39;00m \u001b[39mrange\u001b[39m(num_epochs):\n\u001b[0;32m----> <a href='vscode-notebook-cell:/Users/dariyankhan/Library/CloudStorage/OneDrive-ImperialCollegeLondon/Work%20%28one%20drive%29/Imperial/MIT/exchange_year/summer-UROP-knowledge-distillation/policy_stuff/policy-learn/oSLRAU_and_RSPN/rspn_next_ll.ipynb#X11sZmlsZQ%3D%3D?line=5'>6</a>\u001b[0m     final_test_ll, rspn, template_spn \u001b[39m=\u001b[39m train_rspn(train_data, val_data, rspn)        \n\u001b[1;32m      <a href='vscode-notebook-cell:/Users/dariyankhan/Library/CloudStorage/OneDrive-ImperialCollegeLondon/Work%20%28one%20drive%29/Imperial/MIT/exchange_year/summer-UROP-knowledge-distillation/policy_stuff/policy-learn/oSLRAU_and_RSPN/rspn_next_ll.ipynb#X11sZmlsZQ%3D%3D?line=6'>7</a>\u001b[0m     \u001b[39mprint\u001b[39m(\u001b[39mf\u001b[39m\u001b[39m\"\u001b[39m\u001b[39mfinal_test_ll epoch \u001b[39m\u001b[39m{\u001b[39;00mi\u001b[39m+\u001b[39m\u001b[39m1\u001b[39m\u001b[39m}\u001b[39;00m\u001b[39m/\u001b[39m\u001b[39m{\u001b[39;00mnum_epochs\u001b[39m}\u001b[39;00m\u001b[39m: \u001b[39m\u001b[39m{\u001b[39;00mfinal_test_ll\u001b[39m}\u001b[39;00m\u001b[39m\"\u001b[39m)\n\u001b[1;32m      <a href='vscode-notebook-cell:/Users/dariyankhan/Library/CloudStorage/OneDrive-ImperialCollegeLondon/Work%20%28one%20drive%29/Imperial/MIT/exchange_year/summer-UROP-knowledge-distillation/policy_stuff/policy-learn/oSLRAU_and_RSPN/rspn_next_ll.ipynb#X11sZmlsZQ%3D%3D?line=8'>9</a>\u001b[0m \u001b[39mif\u001b[39;00m do_plot_spn:\n",
      "\u001b[1;32m/Users/dariyankhan/Library/CloudStorage/OneDrive-ImperialCollegeLondon/Work (one drive)/Imperial/MIT/exchange_year/summer-UROP-knowledge-distillation/policy_stuff/policy-learn/oSLRAU_and_RSPN/rspn_next_ll.ipynb Cell 10\u001b[0m line \u001b[0;36m3\n\u001b[1;32m     <a href='vscode-notebook-cell:/Users/dariyankhan/Library/CloudStorage/OneDrive-ImperialCollegeLondon/Work%20%28one%20drive%29/Imperial/MIT/exchange_year/summer-UROP-knowledge-distillation/policy_stuff/policy-learn/oSLRAU_and_RSPN/rspn_next_ll.ipynb#X11sZmlsZQ%3D%3D?line=28'>29</a>\u001b[0m         update_template \u001b[39m=\u001b[39m \u001b[39mTrue\u001b[39;00m\n\u001b[1;32m     <a href='vscode-notebook-cell:/Users/dariyankhan/Library/CloudStorage/OneDrive-ImperialCollegeLondon/Work%20%28one%20drive%29/Imperial/MIT/exchange_year/summer-UROP-knowledge-distillation/policy_stuff/policy-learn/oSLRAU_and_RSPN/rspn_next_ll.ipynb#X11sZmlsZQ%3D%3D?line=30'>31</a>\u001b[0m     template_spn \u001b[39m=\u001b[39m rspn\u001b[39m.\u001b[39mlearn_rspn(mini_batch, update_template, oSLRAU_params, unroll, full_update, update_leaves,\n\u001b[1;32m     <a href='vscode-notebook-cell:/Users/dariyankhan/Library/CloudStorage/OneDrive-ImperialCollegeLondon/Work%20%28one%20drive%29/Imperial/MIT/exchange_year/summer-UROP-knowledge-distillation/policy_stuff/policy-learn/oSLRAU_and_RSPN/rspn_next_ll.ipynb#X11sZmlsZQ%3D%3D?line=31'>32</a>\u001b[0m                                    len_sequence_varies)\n\u001b[0;32m---> <a href='vscode-notebook-cell:/Users/dariyankhan/Library/CloudStorage/OneDrive-ImperialCollegeLondon/Work%20%28one%20drive%29/Imperial/MIT/exchange_year/summer-UROP-knowledge-distillation/policy_stuff/policy-learn/oSLRAU_and_RSPN/rspn_next_ll.ipynb#X11sZmlsZQ%3D%3D?line=34'>35</a>\u001b[0m test_ll \u001b[39m=\u001b[39m np\u001b[39m.\u001b[39mmean(rspn\u001b[39m.\u001b[39;49mlog_likelihood(test_data, unroll, len_sequence_varies))\n\u001b[1;32m     <a href='vscode-notebook-cell:/Users/dariyankhan/Library/CloudStorage/OneDrive-ImperialCollegeLondon/Work%20%28one%20drive%29/Imperial/MIT/exchange_year/summer-UROP-knowledge-distillation/policy_stuff/policy-learn/oSLRAU_and_RSPN/rspn_next_ll.ipynb#X11sZmlsZQ%3D%3D?line=37'>38</a>\u001b[0m \u001b[39mreturn\u001b[39;00m test_ll, rspn, template_spn\n",
      "File \u001b[0;32m~/Library/CloudStorage/OneDrive-ImperialCollegeLondon/Work (one drive)/Imperial/MIT/exchange_year/summer-UROP-knowledge-distillation/policy_stuff/policy-learn/SPFlow/src/spn/algorithms/RSPN.py:378\u001b[0m, in \u001b[0;36mRSPN.log_likelihood\u001b[0;34m(self, data, unroll, len_sequence_varies)\u001b[0m\n\u001b[1;32m    375\u001b[0m \u001b[39mfor\u001b[39;00m index \u001b[39min\u001b[39;00m in_latent_index:\n\u001b[1;32m    376\u001b[0m     nodes[index]\u001b[39m.\u001b[39mlog_inference_value \u001b[39m=\u001b[39m \u001b[39m0\u001b[39m\n\u001b[0;32m--> 378\u001b[0m \u001b[39mself\u001b[39;49m\u001b[39m.\u001b[39;49mset_len_sequence(data)\n\u001b[1;32m    379\u001b[0m len_seq \u001b[39m=\u001b[39m \u001b[39mself\u001b[39m\u001b[39m.\u001b[39mget_len_sequence()\n\u001b[1;32m    381\u001b[0m \u001b[39m#print(\"Length of the sequence in mini_batch:\", len_seq)\u001b[39;00m\n\u001b[1;32m    382\u001b[0m \u001b[39m#print(f\"==>> data.shape: {data.shape}\")\u001b[39;00m\n\u001b[1;32m    383\u001b[0m \u001b[39m#print(f\"==>> self.num_variables: {self.num_variables}\")\u001b[39;00m\n\u001b[1;32m    384\u001b[0m \u001b[39m#print(f\"==>> self.len_sequence: {self.len_sequence}\")\u001b[39;00m\n",
      "File \u001b[0;32m~/Library/CloudStorage/OneDrive-ImperialCollegeLondon/Work (one drive)/Imperial/MIT/exchange_year/summer-UROP-knowledge-distillation/policy_stuff/policy-learn/SPFlow/src/spn/algorithms/RSPN.py:107\u001b[0m, in \u001b[0;36mRSPN.set_len_sequence\u001b[0;34m(self, data)\u001b[0m\n\u001b[1;32m    105\u001b[0m \u001b[39mdef\u001b[39;00m \u001b[39mset_len_sequence\u001b[39m(\u001b[39mself\u001b[39m, data):\n\u001b[1;32m    106\u001b[0m     \u001b[39massert\u001b[39;00m \u001b[39mself\u001b[39m\u001b[39m.\u001b[39mnum_variables \u001b[39mis\u001b[39;00m \u001b[39mnot\u001b[39;00m \u001b[39mNone\u001b[39;00m, \u001b[39m\"\u001b[39m\u001b[39mnumber of variables not specified in RSPN\u001b[39m\u001b[39m\"\u001b[39m\n\u001b[0;32m--> 107\u001b[0m     \u001b[39mself\u001b[39m\u001b[39m.\u001b[39mlen_sequence \u001b[39m=\u001b[39m \u001b[39mint\u001b[39m(data\u001b[39m.\u001b[39;49mshape[\u001b[39m1\u001b[39;49m] \u001b[39m/\u001b[39m \u001b[39mself\u001b[39m\u001b[39m.\u001b[39mnum_variables)\n",
      "\u001b[0;31mIndexError\u001b[0m: tuple index out of range"
     ]
    }
   ],
   "source": [
    "rspn = final_ll(rspn_data)"
   ]
  },
  {
   "cell_type": "code",
   "execution_count": null,
   "metadata": {},
   "outputs": [],
   "source": []
  }
 ],
 "metadata": {
  "kernelspec": {
   "display_name": "policy-venv_new",
   "language": "python",
   "name": "python3"
  },
  "language_info": {
   "codemirror_mode": {
    "name": "ipython",
    "version": 3
   },
   "file_extension": ".py",
   "mimetype": "text/x-python",
   "name": "python",
   "nbconvert_exporter": "python",
   "pygments_lexer": "ipython3",
   "version": "3.10.4"
  },
  "orig_nbformat": 4
 },
 "nbformat": 4,
 "nbformat_minor": 2
}
