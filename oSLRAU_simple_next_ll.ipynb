{
 "cells": [
  {
   "cell_type": "markdown",
   "id": "8302f073-8500-4a6f-8065-6d3fa3729da9",
   "metadata": {},
   "source": [
    "<h1>oSLRAU on Synthetic HMM data</h1>"
   ]
  },
  {
   "cell_type": "markdown",
   "id": "3c3969b1-a4e8-468d-9673-c8e72e0d224b",
   "metadata": {},
   "source": [
    "We fit a hmm and then see if an rspn trained with oSLRAU can match the log likelihood on given data"
   ]
  },
  {
   "cell_type": "code",
   "execution_count": 1,
   "id": "1e12cf88-8873-4922-90ec-8785b2fee123",
   "metadata": {},
   "outputs": [],
   "source": [
    "#from oSLRAU_run import get_data\n",
    "from spn.structure.leaves.parametric.Parametric import Gaussian, In_Latent\n",
    "from spn.structure.Base import Context\n",
    "from spn.algorithms.LearningWrappers import learn_parametric\n",
    "from spn.io.Graphics import plot_spn\n",
    "import numpy as np\n",
    "from spn.algorithms.Inference import log_likelihood\n",
    "from sklearn.model_selection import train_test_split\n",
    "from spn.algorithms.oSLRAU import oSLRAU, oSLRAUParams\n",
    "from spn.algorithms.RSPN import RSPN\n",
    "from spn.algorithms.TransformStructure import Prune ,Prune_oSLRAU\n",
    "\n",
    "from hmmlearn import hmm\n",
    "from spn.algorithms.Inference import log_likelihood"
   ]
  },
  {
   "cell_type": "code",
   "execution_count": 27,
   "id": "fe212c61-9f3b-4f87-83fa-69b749c499ae",
   "metadata": {},
   "outputs": [
    {
     "name": "stdout",
     "output_type": "stream",
     "text": [
      "[0.24110742520025458, 10.67664202581393, -2.079822080842823, 10.759149168729786, -0.4235057411747659, 8.554382941466967]\n"
     ]
    }
   ],
   "source": [
    "# Set the mean and standard deviation of the Gaussian distribution\n",
    "mean0 = 0.0 \n",
    "std0 = 1.0  \n",
    "\n",
    "mean1 = 10.0 \n",
    "std1 = 1.0  \n",
    "\n",
    "\n",
    "# Generate random samples from the Gaussian distribution\n",
    "num_samples=1000\n",
    "\n",
    "gen_data = [eval(f\"np.random.normal(mean{i%2}, std{i%2})\") for i in range(num_samples)]\n",
    "\n",
    "\n",
    "print(gen_data[:6])\n",
    "\n",
    "n_states = 2  # Number of hidden states\n",
    "model = hmm.GaussianHMM(n_components=n_states)\n",
    "\n",
    "# Reshape the observations into a 2D array (required by hmmlearn)\n",
    "X = np.array(gen_data).reshape(-1, 1)\n",
    "\n",
    "# Fit the model to the data\n",
    "model.fit(X)\n",
    "\n",
    "def hmm_avg_ll(hmm_model, data_seq):\n",
    "    log_likelihoods = []\n",
    "\n",
    "    for sequence in data_seq:\n",
    "        log_likelihood = hmm_model.score(sequence)\n",
    "        log_likelihoods.append(log_likelihood)\n",
    "\n",
    "    return np.mean(log_likelihoods)\n",
    "\n",
    "def train_rspn(train_data, test_data, rspn=None):\n",
    "\n",
    "    if len(train_data.shape) == 3: train_data = np.squeeze(train_data)\n",
    "    if len(test_data.shape) == 3: test_data = np.squeeze(test_data)\n",
    "\n",
    "    if rspn is None:\n",
    "    \n",
    "        rspn = RSPN(num_variables=num_variables, num_latent_variables=num_latent_variables, num_latent_values=num_latent_values)\n",
    "        first_mini_batch = train_data[0:mini_batch_size]\n",
    "        n = first_mini_batch.shape[1]\n",
    "        print(n)\n",
    "        context = [Gaussian] * n\n",
    "        ds_context = Context(parametric_types=context).add_domains(first_mini_batch[:, :num_variables])\n",
    "        spn, initial_template_spn, top_spn = rspn.build_initial_template(first_mini_batch, ds_context, len_sequence_varies)\n",
    "\n",
    "    \n",
    "    no_of_minibatches = int(train_data.shape[0] / mini_batch_size)\n",
    "\n",
    "    print(f\"no of minibatches: {no_of_minibatches}\")\n",
    "\n",
    "    \n",
    "    for i in range(1, no_of_minibatches):\n",
    "        mini_batch = train_data[i * mini_batch_size: (i+1) * mini_batch_size]\n",
    "    \n",
    "        update_template = False\n",
    "        \n",
    "        if i % update_after_no_min_batches == 0:\n",
    "            # print(i)\n",
    "            update_template = True\n",
    "    \n",
    "        template_spn = rspn.learn_rspn(mini_batch, update_template, oSLRAU_params, unroll, full_update, update_leaves,\n",
    "                                       len_sequence_varies)\n",
    "           \n",
    "            \n",
    "    test_ll = np.mean(rspn.log_likelihood(test_data, unroll, len_sequence_varies))\n",
    "\n",
    "\n",
    "    return test_ll, rspn, template_spn\n",
    "\n",
    "\n",
    "def avg_ll(data, num_epochs=1, do_plot_spn=True):\n",
    "    ll_list = []\n",
    "    rspn=None\n",
    "    train_data, val_data= train_test_split(data, test_size=0.1, random_state=42)\n",
    "    for i in range(num_epochs):\n",
    "\n",
    "        \n",
    "        epoch_ll, rspn, template_spn = train_rspn(train_data, val_data, rspn)        \n",
    "        print(f\"epoch_ll: {epoch_ll}\")\n",
    "        \n",
    "        ll_list.append(epoch_ll)\n",
    "\n",
    "    average_ll = np.mean(np.array(ll_list))\n",
    "    print(f\" \\n\\n\\n average ll: {average_ll}\\n\\n\\n\")\n",
    "\n",
    "    if do_plot_spn:\n",
    "        plot_spn(template_spn, 'rspn_final_template.pdf')\n",
    "    \n",
    "    return rspn\n",
    "\n",
    "#data to be used for training and validation of rspn\n",
    "num_time_steps = 4\n",
    "num_seq = 20\n",
    "rspn_data = np.array([model.sample(num_time_steps)[0] for _ in range(num_seq)])\n",
    "\n",
    "num_variables = num_time_steps\n",
    "num_latent_variables = 2\n",
    "num_latent_values = 2\n",
    "unroll = 'backward'\n",
    "full_update = False\n",
    "update_leaves = True\n",
    "len_sequence_varies = False\n",
    "oSLRAU_params = oSLRAUParams(mergebatch_threshold=10, corrthresh=0.7, mvmaxscope=1, equalweight=True, currVals=True)\n",
    "\n",
    "\n",
    "mini_batch_size = 3\n",
    "update_after_no_min_batches = 2\n",
    "\n"
   ]
  },
  {
   "cell_type": "code",
   "execution_count": 28,
   "id": "1a31f732-0ffe-42cc-b594-8ec3199de325",
   "metadata": {},
   "outputs": [
    {
     "name": "stdout",
     "output_type": "stream",
     "text": [
      "4\n",
      "==>> data.shape: (3, 4)\n",
      "len(self.meta_types): 4\n",
      "Building initial spn\n",
      "Building initial template spn\n",
      "[[ 0.77111914  9.15972796 -0.55374684  8.5466037 ]\n",
      " [-1.31386519 10.08867167  0.77798639  8.69759125]\n",
      " [-0.09960146  9.94411543 -1.74890498 10.05501796]]\n",
      "Building top spn\n",
      "no of minibatches: 6\n",
      "==>> result: [[ -7.26448577]\n",
      " [ -3.69613501]\n",
      " [-13.5034256 ]]\n",
      "==>> result: [[ -7.26448577]\n",
      " [ -3.69613501]\n",
      " [-13.5034256 ]]\n",
      "==>> in_latent_dict: {In_LatentNode_2: array([0, 1, 2])}\n",
      "==>> result: [[-4.79623192]\n",
      " [-7.317152  ]\n",
      " [-4.86473286]]\n",
      "==>> result: [[-4.90743296]\n",
      " [-7.44942845]\n",
      " [-4.99315085]]\n",
      "==>> in_latent_dict: {In_LatentNode_2: array([0, 1, 2])}\n",
      "Updating template spn\n",
      "==>> result: [[-6.72727014]\n",
      " [-5.25971005]\n",
      " [-5.26096919]]\n",
      "==>> result: [[-6.79367875]\n",
      " [-5.31790876]\n",
      " [-5.30541767]]\n",
      "==>> in_latent_dict: {In_LatentNode_2: array([0, 1, 2])}\n",
      "==>> result: [[ -7.09704858]\n",
      " [-13.0520519 ]\n",
      " [ -4.5390097 ]]\n",
      "==>> result: [[ -7.12881397]\n",
      " [-13.08480944]\n",
      " [ -5.62663232]]\n",
      "==>> in_latent_dict: {In_LatentNode_2: array([0, 1, 2])}\n",
      "Updating template spn\n",
      "==>> type(ci): <class 'spn.structure.leaves.parametric.Parametric.Gaussian'>\n",
      "==>> type(cj): <class 'spn.structure.leaves.parametric.Parametric.Gaussian'>\n",
      "==>> result: [[-7.90136677]\n",
      " [-4.08889866]\n",
      " [-6.03299338]]\n",
      "==>> result: [[-7.9014334 ]\n",
      " [-5.59072996]\n",
      " [-8.0034576 ]]\n",
      "==>> in_latent_dict: {In_LatentNode_2: array([0, 1, 2])}\n",
      "Evaluating rspn bottom up\n",
      "==>> result: [[-6.30451557]\n",
      " [-4.60666639]]\n",
      "==>> result: [[-6.31026879]\n",
      " [-5.01379604]]\n",
      "epoch_ll: -5.662032414139322\n",
      " \n",
      "\n",
      "\n",
      " average ll: -5.662032414139322\n",
      "\n",
      "\n",
      "\n"
     ]
    },
    {
     "data": {
      "image/png": "[encoded data removed]",
      "text/plain": [
       "<Figure size 640x480 with 1 Axes>"
      ]
     },
     "metadata": {},
     "output_type": "display_data"
    }
   ],
   "source": [
    "rspn = avg_ll(rspn_data)"
   ]
  },
  {
   "cell_type": "code",
   "execution_count": 29,
   "id": "b64fd2f3",
   "metadata": {},
   "outputs": [
    {
     "name": "stdout",
     "output_type": "stream",
     "text": [
      "==>> child: In_LatentNode_1\n",
      "==>> child: In_LatentNode_2\n",
      "==>> child: In_LatentNode_26\n",
      "==>> child: In_LatentNode_27\n",
      "==>> child: In_LatentNode_28\n",
      "==>> child: In_LatentNode_29\n",
      "==>> child: In_LatentNode_30\n",
      "==>> child: In_LatentNode_31\n",
      "==>> child: In_LatentNode_34\n",
      "==>> child: In_LatentNode_35\n"
     ]
    },
    {
     "data": {
      "image/png": "[encoded data removed]",
      "text/plain": [
       "<Figure size 640x480 with 1 Axes>"
      ]
     },
     "metadata": {},
     "output_type": "display_data"
    }
   ],
   "source": [
    "unrolled_rspn_full = rspn.get_unrolled_rspn(rspn.get_len_sequence())\n",
    "plot_spn(unrolled_rspn_full, 'rspn_unrolled_full.pdf')"
   ]
  },
  {
   "cell_type": "code",
   "execution_count": 31,
   "id": "16595ab4",
   "metadata": {},
   "outputs": [
    {
     "name": "stdout",
     "output_type": "stream",
     "text": [
      "==>> result: [[-31.32697724]\n",
      " [ -6.13900952]]\n",
      "[[-0.3130922   3.         -0.19253751 11.35713738]\n",
      " [ 2.          9.69237298 -0.19253751  9.84026964]]\n"
     ]
    }
   ],
   "source": [
    "from spn.algorithms.MPE import mpe\n",
    "ls = [[np.nan, 3, np.nan, np.nan], [2, np.nan, np.nan, np.nan]]\n",
    "ls = np.array(ls)\n",
    "\n",
    "print(mpe(unrolled_rspn_full, ls))\n",
    "\n"
   ]
  },
  {
   "cell_type": "code",
   "execution_count": null,
   "id": "8592c29c",
   "metadata": {},
   "outputs": [],
   "source": [
    "from spn.io.Text import spn_to_str_equation\n",
    "txt = spn_to_str_equation(spn_marg)\n",
    "print(txt)"
   ]
  },
  {
   "cell_type": "code",
   "execution_count": null,
   "id": "542fe908",
   "metadata": {},
   "outputs": [],
   "source": []
  },
  {
   "cell_type": "code",
   "execution_count": null,
   "id": "1e062f33",
   "metadata": {},
   "outputs": [],
   "source": []
  },
  {
   "cell_type": "code",
   "execution_count": null,
   "id": "a9d5eb6e",
   "metadata": {},
   "outputs": [],
   "source": []
  },
  {
   "cell_type": "code",
   "execution_count": null,
   "id": "9eedafd7",
   "metadata": {},
   "outputs": [],
   "source": []
  },
  {
   "cell_type": "markdown",
   "id": "1190f02e-5b9a-44ff-8c7a-e488286dbcce",
   "metadata": {},
   "source": [
    "<h1>More complicted example</h1>"
   ]
  },
  {
   "cell_type": "markdown",
   "id": "7d5af91e-948a-4dc3-8a14-8d8b19566bbd",
   "metadata": {},
   "source": [
    "We have 10 latent variables with a random transition matrix and means closer together"
   ]
  },
  {
   "cell_type": "code",
   "execution_count": 176,
   "id": "fcd83a7d-dd8c-445b-9f2b-657fa03a01dd",
   "metadata": {},
   "outputs": [
    {
     "name": "stdout",
     "output_type": "stream",
     "text": [
      "[[0.00749252 0.0651102  0.03460501 0.17586182 0.15808956 0.12556702\n",
      "  0.12123975 0.12356709 0.11852976 0.06993727]\n",
      " [0.1068191  0.10563922 0.03812469 0.0851551  0.00608596 0.19584482\n",
      "  0.08118206 0.06490203 0.20514258 0.11110444]\n",
      " [0.13047991 0.10981136 0.0107968  0.21286083 0.15140619 0.01270162\n",
      "  0.00651861 0.19493568 0.1702715  0.0002175 ]\n",
      " [0.18754242 0.08173445 0.10757737 0.03148777 0.06388511 0.04091736\n",
      "  0.14383864 0.04577156 0.1872533  0.10999201]\n",
      " [0.20015097 0.09622186 0.13953069 0.1932709  0.02667019 0.00844498\n",
      "  0.09142117 0.11232006 0.11978076 0.01218842]\n",
      " [0.09117709 0.08097686 0.12191136 0.0850016  0.11388286 0.13730199\n",
      "  0.12785895 0.06745663 0.14195188 0.03248078]\n",
      " [0.12175066 0.09970354 0.01246314 0.17900239 0.13584252 0.16846377\n",
      "  0.03015599 0.1339653  0.07856232 0.04009038]\n",
      " [0.02904306 0.18634205 0.16574086 0.15652615 0.02355531 0.00139282\n",
      "  0.0069677  0.12266781 0.17935174 0.1284125 ]\n",
      " [0.10926961 0.09773334 0.01569444 0.13321571 0.0623928  0.15557631\n",
      "  0.13116602 0.15862415 0.06766496 0.06866267]\n",
      " [0.18348506 0.10339673 0.17238503 0.06410783 0.00955167 0.13413879\n",
      "  0.00695581 0.11162519 0.13726213 0.07709177]]\n"
     ]
    }
   ],
   "source": [
    "n_states = 10\n",
    "model2 = hmm.GaussianHMM(n_components=n_states)\n",
    "model2.fit(X)\n",
    "\n",
    "transition_matrix2 = np.random.rand(n_states, n_states)\n",
    "trans2_sum = np.sum(transition_matrix2, axis=1)\n",
    "trans2_sum = trans2_sum[:, np.newaxis]\n",
    "transition_matrix2 = transition_matrix2 / trans2_sum\n",
    "\n",
    "model2.transmat_ = transition_matrix2\n",
    "\n",
    "\n",
    "\n",
    "model2.means_ = np.array([[float(i)] for i in range(n_states)])\n",
    "\n",
    "\n",
    "model2.covars_ = np.array([[1.0] for _ in range(n_states)])\n",
    "\n",
    "print(transition_matrix2)\n"
   ]
  },
  {
   "cell_type": "code",
   "execution_count": 186,
   "id": "4843588b-7ad6-4306-8ab5-3f2536306701",
   "metadata": {},
   "outputs": [],
   "source": [
    "#data to be used for training and validation of rspn\n",
    "num_time_steps = 30\n",
    "num_seq = 100\n",
    "rspn_data2 = np.array([model2.sample(num_time_steps)[0] for _ in range(num_seq)])"
   ]
  },
  {
   "cell_type": "code",
   "execution_count": 187,
   "id": "9a194e24-9c6f-4710-bd01-75abbb271449",
   "metadata": {},
   "outputs": [],
   "source": [
    "num_variables = num_time_steps\n",
    "num_latent_variables = n_states\n",
    "num_latent_values = n_states\n",
    "unroll = 'backward'\n",
    "full_update = False\n",
    "update_leaves = True\n",
    "len_sequence_varies = False\n",
    "oSLRAU_params = oSLRAUParams(mergebatch_threshold=10, corrthresh=0.7, mvmaxscope=1, equalweight=True, currVals=True)\n",
    "\n",
    "\n",
    "mini_batch_size = 8\n",
    "update_after_no_min_batches = 2"
   ]
  },
  {
   "cell_type": "code",
   "execution_count": 188,
   "id": "ac72a711-b8d2-4b36-8c08-39a766385c98",
   "metadata": {},
   "outputs": [
    {
     "name": "stdout",
     "output_type": "stream",
     "text": [
      "30\n",
      "Building initial spn\n",
      "Building initial template spn\n",
      "Building top spn\n",
      "no of minibatches: 11\n",
      "2\n",
      "Updating template spn\n",
      "4\n",
      "Updating template spn\n",
      "6\n",
      "Updating template spn\n",
      "8\n",
      "Updating template spn\n",
      "10\n",
      "Updating template spn\n",
      "Length of the sequence in mini_batch: 1\n",
      "Evaluating rspn bottom up\n",
      "epoch_ll: -73.67548913600744\n",
      " \n",
      "\n",
      "\n",
      " average ll: -73.67548913600744\n",
      "\n",
      "\n",
      "\n"
     ]
    }
   ],
   "source": [
    "rspn2 = avg_ll(rspn_data2, do_plot_spn=False)"
   ]
  },
  {
   "cell_type": "code",
   "execution_count": 183,
   "id": "67f2574e-8a35-4f3e-ab2b-2a18d007857d",
   "metadata": {},
   "outputs": [],
   "source": [
    "test_len = 50\n",
    "test_data2 = np.array([model2.sample(num_time_steps)[0] for _ in range(test_len)])"
   ]
  },
  {
   "cell_type": "code",
   "execution_count": 184,
   "id": "f7ce6c43-804a-4d52-be13-d9c955d66fbb",
   "metadata": {},
   "outputs": [
    {
     "data": {
      "text/plain": [
       "-72.89266841829844"
      ]
     },
     "execution_count": 184,
     "metadata": {},
     "output_type": "execute_result"
    }
   ],
   "source": [
    "hmm_test_ll2 = hmm_avg_ll(model2, test_data2)\n",
    "hmm_test_ll2"
   ]
  },
  {
   "cell_type": "code",
   "execution_count": 185,
   "id": "c0523043-0b9c-4e77-8e06-05123a0266e9",
   "metadata": {},
   "outputs": [
    {
     "name": "stdout",
     "output_type": "stream",
     "text": [
      "Length of the sequence in mini_batch: 1\n",
      "Evaluating rspn bottom up\n"
     ]
    },
    {
     "data": {
      "text/plain": [
       "-74.99058918292071"
      ]
     },
     "execution_count": 185,
     "metadata": {},
     "output_type": "execute_result"
    }
   ],
   "source": [
    "if len(test_data2.shape) == 3: test_data2 = np.squeeze(test_data2)\n",
    "rspn_test_ll2 = np.mean(rspn2.log_likelihood(test_data2, unroll, len_sequence_varies))\n",
    "rspn_test_ll2"
   ]
  },
  {
   "cell_type": "markdown",
   "id": "7daa1c47-b1f6-42f3-aedf-d38895a6ca74",
   "metadata": {},
   "source": [
    "Again, the log likelihoods are close to each other"
   ]
  },
  {
   "cell_type": "markdown",
   "id": "a3c9b676",
   "metadata": {},
   "source": [
    "<h1> On Multivariate normal data </h1> "
   ]
  },
  {
   "cell_type": "code",
   "execution_count": 11,
   "id": "4d8f1209",
   "metadata": {},
   "outputs": [],
   "source": [
    "from oSLRAU_run import get_data\n",
    "from spn.structure.leaves.parametric.Parametric import Gaussian, In_Latent\n",
    "from spn.structure.Base import Context\n",
    "from spn.algorithms.LearningWrappers import learn_parametric\n",
    "from spn.io.Graphics import plot_spn\n",
    "import numpy as np\n",
    "from spn.algorithms.Inference import log_likelihood\n",
    "from sklearn.model_selection import train_test_split\n",
    "from spn.algorithms.oSLRAU import oSLRAU, oSLRAUParams\n",
    "from spn.algorithms.RSPN import RSPN\n",
    "from spn.algorithms.TransformStructure import Prune ,Prune_oSLRAU\n",
    "\n",
    "from hmmlearn import hmm\n",
    "from spn.algorithms.Inference import log_likelihood"
   ]
  },
  {
   "cell_type": "code",
   "execution_count": 12,
   "id": "dd96140b-52af-4b01-bb95-82e4282930d8",
   "metadata": {},
   "outputs": [],
   "source": [
    "# Define the number of hidden states\n",
    "n_states = 3\n",
    "n_dim = 2\n",
    "\n",
    "# Define the transition matrix\n",
    "transmat = np.array([[0.7, 0.2, 0.1],\n",
    "                     [0.3, 0.5, 0.2],\n",
    "                     [0.1, 0.3, 0.6]])\n",
    "\n",
    "# Define the initial state probabilities\n",
    "startprob = np.array([0.6, 0.3, 0.1])\n",
    "\n",
    "# Define the Multivariate Gaussian emission distributions\n",
    "means = np.array([[0.0, 0.0], [1.0, 2.0], [2.0, 3.0]])\n",
    "covars = np.tile(np.identity(2), (n_states, 1, 1))  # Use identity matrix as the covariance for simplicity\n",
    "\n",
    "# Create the Multivariate Gaussian HMM model\n",
    "model_mvn = hmm.GaussianHMM(n_components=n_states, covariance_type=\"full\")\n",
    "model_mvn.startprob_ = startprob\n",
    "model_mvn.transmat_ = transmat\n",
    "model_mvn.means_ = means\n",
    "model_mvn.covars_ = covars"
   ]
  },
  {
   "cell_type": "code",
   "execution_count": 14,
   "id": "df1fe4d1",
   "metadata": {},
   "outputs": [
    {
     "name": "stdout",
     "output_type": "stream",
     "text": [
      "==>> rspn_data_mvn.shape: (100, 5, 2)\n",
      "==>> rspn_data_mvn.shape: (100, 10)\n"
     ]
    }
   ],
   "source": [
    "num_time_steps_mvn = 5\n",
    "num_seq_mvn = 100\n",
    "rspn_data_mvn= np.array([model_mvn.sample(num_time_steps_mvn)[0] for _ in range(num_seq_mvn)])\n",
    "print(f\"==>> rspn_data_mvn.shape: {rspn_data_mvn.shape}\")\n",
    "rspn_data_mvn = rspn_data_mvn.reshape((rspn_data_mvn.shape[0], -1))\n",
    "print(f\"==>> rspn_data_mvn.shape: {rspn_data_mvn.shape}\")\n",
    "\n"
   ]
  },
  {
   "cell_type": "code",
   "execution_count": 16,
   "id": "14d55a0e",
   "metadata": {},
   "outputs": [],
   "source": [
    "num_variables = num_time_steps_mvn * n_dim\n",
    "num_latent_variables = 3\n",
    "num_latent_values = 2\n",
    "unroll = 'backward'\n",
    "full_update = False\n",
    "update_leaves = True\n",
    "len_sequence_varies = False\n",
    "oSLRAU_params = oSLRAUParams(mergebatch_threshold=10, corrthresh=0.7, mvmaxscope=1, equalweight=True, currVals=True)\n",
    "\n",
    "\n",
    "mini_batch_size = 3\n",
    "update_after_no_min_batches = 2"
   ]
  },
  {
   "cell_type": "code",
   "execution_count": 17,
   "id": "10707ba5",
   "metadata": {},
   "outputs": [],
   "source": [
    "def train_rspn_mvn(train_data, test_data, rspn=None):\n",
    "\n",
    "    if len(train_data.shape) == 3: train_data = np.squeeze(train_data)\n",
    "    if len(test_data.shape) == 3: test_data = np.squeeze(test_data)\n",
    "\n",
    "    if rspn is None:\n",
    "    \n",
    "        rspn = RSPN(num_variables=num_variables, num_latent_variables=num_latent_variables, num_latent_values=num_latent_values)\n",
    "        first_mini_batch = train_data[0:mini_batch_size]\n",
    "        n = first_mini_batch.shape[1]\n",
    "        print(n)\n",
    "        context = [Gaussian] * n\n",
    "        ds_context = Context(parametric_types=context).add_domains(first_mini_batch[:, :num_variables])\n",
    "        spn, initial_template_spn, top_spn = rspn.build_initial_template(first_mini_batch, ds_context, len_sequence_varies)\n",
    "\n",
    "    \n",
    "    no_of_minibatches = int(train_data.shape[0] / mini_batch_size)\n",
    "\n",
    "    print(f\"no of minibatches: {no_of_minibatches}\")\n",
    "\n",
    "    \n",
    "    for i in range(1, no_of_minibatches):\n",
    "        mini_batch = train_data[i * mini_batch_size: (i+1) * mini_batch_size]\n",
    "    \n",
    "        update_template = False\n",
    "        \n",
    "        if i % update_after_no_min_batches == 0:\n",
    "            print(i)\n",
    "            update_template = True\n",
    "    \n",
    "        template_spn = rspn.learn_rspn(mini_batch, update_template, oSLRAU_params, unroll, full_update, update_leaves,\n",
    "                                       len_sequence_varies)\n",
    "           \n",
    "            \n",
    "    test_ll = np.mean(rspn.log_likelihood(test_data, unroll, len_sequence_varies))\n",
    "\n",
    "\n",
    "    return test_ll, rspn, template_spn"
   ]
  },
  {
   "cell_type": "code",
   "execution_count": 18,
   "id": "4b1ddcbf",
   "metadata": {},
   "outputs": [],
   "source": [
    "def avg_ll_mvn(data, num_epochs=1, do_plot_spn=True):\n",
    "    ll_list = []\n",
    "    rspn=None\n",
    "    train_data, val_data= train_test_split(data, test_size=0.1, random_state=42)\n",
    "    for i in range(num_epochs):\n",
    "        print(train_data.shape)\n",
    "        \n",
    "        \n",
    "        epoch_ll, rspn, template_spn = train_rspn_mvn(train_data, val_data, rspn)        \n",
    "        print(f\"epoch_ll: {epoch_ll}\")\n",
    "        \n",
    "        ll_list.append(epoch_ll)\n",
    "\n",
    "    average_ll = np.mean(np.array(ll_list))\n",
    "    print(f\" \\n\\n\\n average ll: {average_ll}\\n\\n\\n\")\n",
    "\n",
    "    if do_plot_spn:\n",
    "        plot_spn(template_spn, 'rspn_final_template.pdf')\n",
    "    \n",
    "    return rspn"
   ]
  },
  {
   "cell_type": "code",
   "execution_count": 19,
   "id": "747c5729",
   "metadata": {},
   "outputs": [
    {
     "name": "stdout",
     "output_type": "stream",
     "text": [
      "(90, 10)\n",
      "10\n",
      "==>> data.shape: (3, 10)\n",
      "len(self.meta_types): 10\n",
      "Building initial spn\n",
      "Building initial template spn\n",
      "Building top spn\n",
      "no of minibatches: 30\n",
      "2\n",
      "Updating template spn\n",
      "4\n",
      "Updating template spn\n",
      "6\n",
      "Updating template spn\n",
      "8\n",
      "Updating template spn\n",
      "10\n",
      "Updating template spn\n",
      "12\n",
      "Updating template spn\n",
      "14\n",
      "Updating template spn\n",
      "16\n",
      "Updating template spn\n",
      "18\n",
      "Updating template spn\n",
      "20\n",
      "Updating template spn\n",
      "22\n",
      "Updating template spn\n",
      "24\n",
      "Updating template spn\n",
      "26\n",
      "Updating template spn\n",
      "28\n",
      "Updating template spn\n",
      "Length of the sequence in mini_batch: 1\n",
      "==>> data.shape: (10, 10)\n",
      "==>> self.num_variables: 10\n",
      "==>> self.len_sequence: 1\n",
      "Evaluating rspn bottom up\n",
      "epoch_ll: -17.546420030820016\n",
      " \n",
      "\n",
      "\n",
      " average ll: -17.546420030820016\n",
      "\n",
      "\n",
      "\n"
     ]
    }
   ],
   "source": [
    "rspn_mvn = avg_ll_mvn(rspn_data_mvn, do_plot_spn=False)"
   ]
  },
  {
   "cell_type": "code",
   "execution_count": 20,
   "id": "809c8401",
   "metadata": {},
   "outputs": [
    {
     "data": {
      "text/plain": [
       "array([[[ 1.26551470e+00,  2.49159297e-01],\n",
       "        [-5.72603501e-01,  1.71011624e+00],\n",
       "        [ 1.06999467e+00,  4.59439878e+00],\n",
       "        [-7.28788151e-02,  7.94763595e-01],\n",
       "        [ 2.33612547e+00,  2.33651170e+00]],\n",
       "\n",
       "       [[-8.14391232e-02,  1.81666616e-01],\n",
       "        [-4.35089164e-01,  3.94216739e-01],\n",
       "        [ 1.86703887e-01,  2.87927382e+00],\n",
       "        [ 7.80939177e-01,  1.33662457e+00],\n",
       "        [-2.27061165e-01,  1.75579237e+00]],\n",
       "\n",
       "       [[ 4.71145563e-01,  4.45013715e-02],\n",
       "        [ 1.39343389e+00, -1.07402625e+00],\n",
       "        [ 2.63693410e+00,  2.44116754e+00],\n",
       "        [ 8.16133444e-01,  4.68526943e+00],\n",
       "        [ 1.76636406e+00,  4.76173990e+00]],\n",
       "\n",
       "       [[ 1.68862861e-01, -1.66276134e+00],\n",
       "        [ 2.82704571e-01, -2.42927118e-01],\n",
       "        [-4.98431779e-02,  9.71699651e-01],\n",
       "        [-1.50868215e+00,  1.11995132e+00],\n",
       "        [ 4.14981732e+00,  4.48261016e+00]],\n",
       "\n",
       "       [[ 8.06193439e-01,  2.33963613e+00],\n",
       "        [-1.07169296e+00,  7.10241248e-01],\n",
       "        [ 7.77581873e-01,  3.30651201e+00],\n",
       "        [ 2.54509493e+00,  2.86356316e+00],\n",
       "        [ 2.76945179e+00,  9.77182621e-01]],\n",
       "\n",
       "       [[ 1.80709413e-01,  7.57072332e-01],\n",
       "        [ 1.26540217e+00,  1.23400363e+00],\n",
       "        [ 2.23438855e+00,  2.98376723e+00],\n",
       "        [-3.18264216e-01,  3.69914143e+00],\n",
       "        [ 6.66695620e-01,  2.10742430e+00]],\n",
       "\n",
       "       [[ 6.03024142e-02,  2.34156851e+00],\n",
       "        [ 1.56956269e+00,  3.11337680e+00],\n",
       "        [ 5.83425845e-01,  1.26997863e+00],\n",
       "        [ 2.42492200e+00,  3.94016626e+00],\n",
       "        [ 1.50875293e+00,  3.04781140e+00]],\n",
       "\n",
       "       [[-2.46482060e-02,  2.00120965e+00],\n",
       "        [ 1.09829572e+00,  4.45083684e-01],\n",
       "        [ 2.74888257e+00,  2.11044414e-01],\n",
       "        [-8.24212331e-01, -1.02488624e+00],\n",
       "        [ 2.56937122e+00,  2.99731206e+00]],\n",
       "\n",
       "       [[ 3.62658473e-01, -1.29270215e+00],\n",
       "        [ 2.01273549e+00,  6.15515223e-01],\n",
       "        [ 2.77345879e+00,  3.89223268e+00],\n",
       "        [ 2.40558520e-01,  2.68102802e+00],\n",
       "        [ 1.19601309e+00,  2.47553317e+00]],\n",
       "\n",
       "       [[-8.87212550e-01, -5.18581832e-01],\n",
       "        [-2.84270583e-01,  2.82914663e+00],\n",
       "        [ 2.55578294e+00,  3.44062272e+00],\n",
       "        [-3.63794687e-01,  2.63390823e+00],\n",
       "        [ 7.12043974e-02,  2.74482654e+00]],\n",
       "\n",
       "       [[ 2.61774494e-01,  9.39251849e-01],\n",
       "        [ 9.69183519e-01,  2.74173173e+00],\n",
       "        [ 1.04791100e+00,  5.24945421e-04],\n",
       "        [-4.25108188e-01, -4.20603692e-01],\n",
       "        [-5.51139842e-01,  7.73585278e-01]],\n",
       "\n",
       "       [[-5.08242254e-01,  4.66693508e-01],\n",
       "        [ 3.48777119e-02,  4.22138895e-01],\n",
       "        [ 8.00320937e-01,  8.43360339e-01],\n",
       "        [ 2.35420857e+00,  2.00252352e+00],\n",
       "        [-2.37521650e+00, -1.07542993e+00]],\n",
       "\n",
       "       [[ 4.02247049e+00,  3.48150957e+00],\n",
       "        [ 2.33043513e+00,  3.60603659e+00],\n",
       "        [-7.00646724e-01,  1.39219233e+00],\n",
       "        [-2.41767008e-01,  1.46522366e-01],\n",
       "        [ 3.60982212e+00,  3.85603828e+00]],\n",
       "\n",
       "       [[-2.78437898e-01,  6.16951381e-01],\n",
       "        [-5.02635487e-01, -2.00741400e+00],\n",
       "        [-2.15807517e-01,  1.04627398e+00],\n",
       "        [-1.05704972e-01, -1.07445086e+00],\n",
       "        [-1.11917335e+00,  5.91745218e-01]],\n",
       "\n",
       "       [[-1.00247383e+00,  3.98583471e-01],\n",
       "        [ 3.78930477e-01,  1.27563354e+00],\n",
       "        [ 1.24404618e+00,  2.80853406e+00],\n",
       "        [ 2.04534220e+00,  2.45848069e+00],\n",
       "        [ 1.60680642e+00,  1.65800853e+00]],\n",
       "\n",
       "       [[-1.35756219e+00, -6.04343340e-01],\n",
       "        [ 1.07743132e+00,  2.30091124e+00],\n",
       "        [ 1.68516296e+00,  4.56217010e+00],\n",
       "        [-7.86094516e-01,  4.06147841e+00],\n",
       "        [ 8.73348388e-01,  3.14438868e+00]],\n",
       "\n",
       "       [[ 1.12191354e+00,  1.87878886e+00],\n",
       "        [ 7.25057735e-01,  3.50265420e+00],\n",
       "        [ 8.31326269e-01,  4.09618536e+00],\n",
       "        [ 1.08573820e+00, -8.53348064e-01],\n",
       "        [ 2.21770096e+00,  1.60578416e+00]],\n",
       "\n",
       "       [[-1.78409169e-02,  1.31734504e-01],\n",
       "        [-1.16616837e+00, -8.25131488e-01],\n",
       "        [ 1.83761690e+00, -4.49286905e-01],\n",
       "        [-8.26150752e-01,  1.12021491e+00],\n",
       "        [ 2.27173589e+00,  3.16447568e+00]],\n",
       "\n",
       "       [[ 3.27333356e+00,  2.59211646e+00],\n",
       "        [ 3.70960495e+00,  1.55500828e+00],\n",
       "        [ 7.60540895e-01, -3.58222094e-01],\n",
       "        [ 1.20254632e+00,  1.93677534e+00],\n",
       "        [ 2.09351896e+00,  1.10490816e+00]],\n",
       "\n",
       "       [[ 2.29327937e-02,  1.36941401e+00],\n",
       "        [-6.68705392e-01,  2.58854757e+00],\n",
       "        [ 5.77987923e-01,  2.57159700e+00],\n",
       "        [ 1.92456051e+00,  1.32649506e+00],\n",
       "        [ 1.09085464e+00,  1.82261129e+00]],\n",
       "\n",
       "       [[ 2.84472126e+00, -9.61031620e-02],\n",
       "        [ 2.44161266e+00,  3.27344385e+00],\n",
       "        [ 1.90297358e+00,  3.81252607e+00],\n",
       "        [ 2.55145751e+00,  1.59009954e+00],\n",
       "        [ 2.27727718e+00,  3.74969784e+00]],\n",
       "\n",
       "       [[-8.03936249e-01, -7.80924743e-01],\n",
       "        [ 3.06275631e+00,  2.33238144e+00],\n",
       "        [ 5.73634292e-01,  1.04326884e+00],\n",
       "        [-5.94533285e-01,  7.79955896e-02],\n",
       "        [-9.34728438e-01, -1.03677043e+00]],\n",
       "\n",
       "       [[ 9.92103150e-01,  2.10029554e+00],\n",
       "        [-8.03566462e-02,  3.08156078e+00],\n",
       "        [-2.20508997e+00, -2.63804184e-01],\n",
       "        [-5.19254398e-01,  6.56847020e-02],\n",
       "        [-5.77982759e-01, -2.10740234e+00]],\n",
       "\n",
       "       [[ 2.80592305e+00,  4.59320707e-01],\n",
       "        [ 1.52453371e+00,  3.96916648e+00],\n",
       "        [ 1.26760189e+00,  1.98807135e+00],\n",
       "        [ 2.38422007e+00,  3.80314381e+00],\n",
       "        [ 2.19752751e+00,  2.91778631e+00]],\n",
       "\n",
       "       [[ 7.06163882e-01, -1.14846602e+00],\n",
       "        [ 7.16179834e-01, -7.88134366e-01],\n",
       "        [ 1.17173584e+00,  8.47696377e-01],\n",
       "        [ 1.37069546e-01,  8.25095328e-01],\n",
       "        [ 1.12724937e+00,  3.34765938e+00]],\n",
       "\n",
       "       [[ 8.08713237e-02, -2.43368504e+00],\n",
       "        [ 1.45323695e+00,  1.40651534e+00],\n",
       "        [ 5.15343066e-01,  8.78158084e-02],\n",
       "        [ 9.54987964e-01,  1.84596404e+00],\n",
       "        [-7.02780230e-01,  2.51524359e+00]],\n",
       "\n",
       "       [[ 6.68903409e-01,  1.23379327e+00],\n",
       "        [-4.97590107e-01, -1.43324530e+00],\n",
       "        [-3.02392934e-01, -1.17155891e+00],\n",
       "        [-5.56020638e-01,  1.88845835e+00],\n",
       "        [ 2.51566475e-01, -9.50430286e-01]],\n",
       "\n",
       "       [[ 4.03611679e+00,  1.34294965e+00],\n",
       "        [ 1.63126860e+00,  4.26365212e+00],\n",
       "        [ 5.59221546e-01,  2.66245459e+00],\n",
       "        [-8.57619504e-01,  3.81358141e+00],\n",
       "        [ 1.66655406e+00,  9.24843135e-01]],\n",
       "\n",
       "       [[-9.70804453e-01,  1.99033167e+00],\n",
       "        [-1.56511639e-01,  8.87535463e-01],\n",
       "        [ 2.71363594e-01, -1.00301970e+00],\n",
       "        [-1.19437107e-01,  3.08656260e+00],\n",
       "        [ 2.39003529e+00,  2.22830353e+00]],\n",
       "\n",
       "       [[-6.57644476e-01,  7.47506029e-01],\n",
       "        [ 2.26844824e+00,  3.24778175e+00],\n",
       "        [ 1.21922555e+00,  1.70633829e+00],\n",
       "        [ 1.54921016e+00,  1.06770936e+00],\n",
       "        [-1.24476501e+00,  5.63992794e-01]],\n",
       "\n",
       "       [[-8.12387589e-01, -6.08339583e-01],\n",
       "        [ 5.28438110e-01,  2.39248141e-01],\n",
       "        [ 1.41068758e+00,  1.03739262e+00],\n",
       "        [ 2.99369598e+00,  8.85674715e-01],\n",
       "        [ 1.81080212e+00,  1.53798115e+00]],\n",
       "\n",
       "       [[ 1.65835754e+00,  1.67643711e+00],\n",
       "        [-1.01866099e+00,  5.23167567e-01],\n",
       "        [ 7.46519477e-01, -1.03331888e-01],\n",
       "        [ 4.38957668e-01,  3.84693150e-01],\n",
       "        [-7.45934688e-01, -8.42826971e-01]],\n",
       "\n",
       "       [[-1.62363933e+00,  9.84933270e-02],\n",
       "        [-7.13389551e-01,  4.72873622e-01],\n",
       "        [-2.85444463e-01,  1.70570443e+00],\n",
       "        [ 1.31592122e+00, -1.63928580e+00],\n",
       "        [-7.39069572e-01, -3.57862224e-01]],\n",
       "\n",
       "       [[-6.02037514e-02,  3.14448102e+00],\n",
       "        [ 2.48999341e+00,  3.05120033e+00],\n",
       "        [ 1.10405400e+00,  1.05535448e+00],\n",
       "        [-2.51200255e-01,  1.51851916e+00],\n",
       "        [ 2.95590786e+00,  2.49257819e+00]],\n",
       "\n",
       "       [[ 7.61575433e-01,  3.36288087e-01],\n",
       "        [ 4.04848081e+00,  3.43265098e+00],\n",
       "        [ 1.76108022e+00,  8.46563898e-02],\n",
       "        [-7.35783337e-01,  3.55403058e-01],\n",
       "        [ 2.71005856e-01,  2.21052188e+00]],\n",
       "\n",
       "       [[ 1.33503966e+00,  2.25824652e+00],\n",
       "        [ 2.21548073e+00,  1.26946588e+00],\n",
       "        [ 7.54437969e-01, -1.96680956e-01],\n",
       "        [-3.51894787e-01,  1.38109858e+00],\n",
       "        [ 1.64686008e+00,  2.64521738e+00]],\n",
       "\n",
       "       [[-4.99633373e-01,  7.50371954e-02],\n",
       "        [-2.94206724e-01,  1.29922814e+00],\n",
       "        [ 1.51163109e+00,  1.31635691e+00],\n",
       "        [ 1.24414226e+00,  1.51209610e+00],\n",
       "        [ 7.04783518e-01,  3.38197625e+00]],\n",
       "\n",
       "       [[-4.68555567e-01,  3.36927801e-01],\n",
       "        [ 4.37615656e-02,  7.56105049e-01],\n",
       "        [ 9.84648937e-01,  4.29158465e+00],\n",
       "        [ 1.17490405e+00,  2.60809894e+00],\n",
       "        [-4.22753197e-02,  4.60002820e-01]],\n",
       "\n",
       "       [[ 1.38154932e+00, -5.75893566e-02],\n",
       "        [-1.35987127e-01,  4.48985859e-01],\n",
       "        [-6.96628282e-01,  2.62765502e-01],\n",
       "        [ 1.04036739e+00, -2.35307155e+00],\n",
       "        [-1.67801575e-01, -1.67350238e-01]],\n",
       "\n",
       "       [[-4.24087116e-01,  1.65596342e-01],\n",
       "        [ 1.54138070e+00, -1.71613201e+00],\n",
       "        [ 2.04003736e+00,  2.17036556e-01],\n",
       "        [ 1.94356103e+00,  2.06606131e+00],\n",
       "        [ 7.07325835e-01,  2.11581581e+00]],\n",
       "\n",
       "       [[ 2.54995788e-01,  3.24917821e+00],\n",
       "        [ 2.69547713e+00,  2.87158156e+00],\n",
       "        [ 1.68237565e+00,  3.43936700e+00],\n",
       "        [-2.08453436e-01,  7.30478002e-01],\n",
       "        [ 1.23594522e+00,  2.32986072e+00]],\n",
       "\n",
       "       [[-1.23549827e+00, -6.31915737e-01],\n",
       "        [-1.58819730e+00, -3.68686384e-01],\n",
       "        [ 1.40422020e+00,  2.21457448e+00],\n",
       "        [ 1.91364118e+00,  1.74114555e+00],\n",
       "        [-8.24979602e-01,  4.56737283e-01]],\n",
       "\n",
       "       [[ 2.33811546e+00, -6.89439769e-01],\n",
       "        [ 1.11197074e+00, -3.40139713e-01],\n",
       "        [ 2.52606187e+00,  1.43598604e-01],\n",
       "        [ 4.28764386e-01,  4.69186617e+00],\n",
       "        [ 1.39260125e+00,  3.57297960e+00]],\n",
       "\n",
       "       [[ 9.05096763e-01,  1.70150269e+00],\n",
       "        [ 4.64978701e-01,  2.58825926e+00],\n",
       "        [ 2.21930417e+00,  3.64590251e+00],\n",
       "        [ 9.11716917e-02, -4.86782474e-01],\n",
       "        [ 7.07549000e-01, -1.49359714e-01]],\n",
       "\n",
       "       [[ 3.25202473e-01, -8.95854465e-01],\n",
       "        [ 3.18726273e+00,  2.79303820e+00],\n",
       "        [ 1.83671121e+00,  1.23035650e+00],\n",
       "        [ 3.66511324e+00,  2.67958255e+00],\n",
       "        [-7.12002698e-01,  6.07141337e-01]],\n",
       "\n",
       "       [[ 2.35495501e-01,  9.21658310e-01],\n",
       "        [-7.89886746e-01, -1.05732217e+00],\n",
       "        [ 7.70201506e-01, -4.05779968e-01],\n",
       "        [-3.87366091e-01,  2.23619159e-01],\n",
       "        [ 4.95533758e-02, -3.32990280e-01]],\n",
       "\n",
       "       [[ 8.98611279e-01,  1.29061729e+00],\n",
       "        [-8.10179553e-01,  2.19892642e-01],\n",
       "        [-3.53616477e-01, -4.36012927e-01],\n",
       "        [ 9.55510393e-01,  7.17638671e-01],\n",
       "        [ 1.00809508e+00,  2.26335325e+00]],\n",
       "\n",
       "       [[-1.11834295e+00,  1.23944576e+00],\n",
       "        [-1.03985896e-01,  1.15818876e+00],\n",
       "        [-4.89046510e-01, -1.22043345e+00],\n",
       "        [ 6.25851734e-01, -8.76239465e-01],\n",
       "        [ 1.57644732e+00, -1.73315607e+00]],\n",
       "\n",
       "       [[ 9.45868987e-01, -1.76731656e-01],\n",
       "        [ 1.76790617e+00, -1.11755619e-01],\n",
       "        [-6.17467174e-01,  6.10241055e-01],\n",
       "        [ 4.72085386e-01,  1.50656678e+00],\n",
       "        [ 2.90762252e+00,  1.76616401e+00]],\n",
       "\n",
       "       [[ 1.67564729e+00,  7.17833444e-01],\n",
       "        [-4.02643368e-01,  8.46640141e-01],\n",
       "        [-8.49088402e-01, -1.98212933e+00],\n",
       "        [-2.89871462e-01, -2.48876122e-01],\n",
       "        [ 1.54981470e+00,  4.93713920e+00]]])"
      ]
     },
     "execution_count": 20,
     "metadata": {},
     "output_type": "execute_result"
    }
   ],
   "source": [
    "test_len_mvn = 50\n",
    "test_data_mvn = np.array([model_mvn.sample(num_time_steps_mvn)[0] for _ in range(test_len_mvn)])\n",
    "test_data_mvn"
   ]
  },
  {
   "cell_type": "code",
   "execution_count": 21,
   "id": "7cb4cd75",
   "metadata": {},
   "outputs": [
    {
     "data": {
      "text/plain": [
       "-16.8890762139131"
      ]
     },
     "execution_count": 21,
     "metadata": {},
     "output_type": "execute_result"
    }
   ],
   "source": [
    "hmm_test_ll_mvn = hmm_avg_ll(model_mvn, test_data_mvn)\n",
    "hmm_test_ll_mvn"
   ]
  },
  {
   "cell_type": "code",
   "execution_count": 23,
   "id": "51ae36e4",
   "metadata": {},
   "outputs": [
    {
     "name": "stdout",
     "output_type": "stream",
     "text": [
      "(50, 10)\n",
      "Length of the sequence in mini_batch: 1\n",
      "==>> data.shape: (50, 10)\n",
      "==>> self.num_variables: 10\n",
      "==>> self.len_sequence: 1\n",
      "Evaluating rspn bottom up\n"
     ]
    },
    {
     "data": {
      "text/plain": [
       "-17.882760117595836"
      ]
     },
     "execution_count": 23,
     "metadata": {},
     "output_type": "execute_result"
    }
   ],
   "source": [
    "if len(test_data_mvn.shape) == 3: test_data_mvn = np.squeeze(test_data_mvn)\n",
    "print(test_data_mvn.shape)\n",
    "test_data_mvn = test_data_mvn.reshape((len(test_data_mvn), -1))\n",
    "\n",
    "rspn_test_ll_mvn = np.mean(rspn_mvn.log_likelihood(test_data_mvn, unroll, len_sequence_varies))\n",
    "rspn_test_ll_mvn"
   ]
  },
  {
   "cell_type": "markdown",
   "id": "01f33345",
   "metadata": {},
   "source": [
    "As we can see, in the multivariate case the log likelihoods match too"
   ]
  },
  {
   "cell_type": "markdown",
   "id": "40a24db6",
   "metadata": {},
   "source": []
  }
 ],
 "metadata": {
  "kernelspec": {
   "display_name": "policy-venv_new",
   "language": "python",
   "name": "python3"
  },
  "language_info": {
   "codemirror_mode": {
    "name": "ipython",
    "version": 3
   },
   "file_extension": ".py",
   "mimetype": "text/x-python",
   "name": "python",
   "nbconvert_exporter": "python",
   "pygments_lexer": "ipython3",
   "version": "3.10.4"
  }
 },
 "nbformat": 4,
 "nbformat_minor": 5
}
